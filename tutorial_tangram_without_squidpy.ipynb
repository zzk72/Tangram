{
 "cells": [
  {
   "cell_type": "markdown",
   "metadata": {
    "id": "qRHquhMbRk22"
   },
   "source": [
    "# Tutorial for mapping data with Tangram\n",
    "by Tommaso Biancalani <biancalt@gene.com> and Ziqing Lu <luz21@gene.com>\n",
    "\n",
    "- The notebook introduces to mapping single cell data on spatial data  using the Tangram method.\n",
    "- The notebook uses data from mouse brain cortex (different than those adopted in the manuscript).\n",
    "\n",
    "#### Last changelog\n",
    "- June 13th - Tommaso Biancalani <biancalt@gene.com>"
   ]
  },
  {
   "cell_type": "markdown",
   "metadata": {
    "id": "3jGQFkdURk24"
   },
   "source": [
    "***\n",
    "#### Installation"
   ]
  },
  {
   "cell_type": "markdown",
   "metadata": {
    "id": "2wc4YpzNRk25"
   },
   "source": [
    "- Make sure `tangram-sc` is installed via `pip install tangram-sc`.\n",
    "- Otherwise, edit and uncomment the line starting with `sys.path` specifying the Tangram folder.\n",
    "- The Python environment needs to install the packages listed in `environment.yml`."
   ]
  },
  {
   "cell_type": "code",
   "execution_count": 1,
   "metadata": {
    "id": "tEIfT_1YRk25",
    "outputId": "99783bdf-71e5-4f64-f9b8-ec9d306f9575",
    "ExecuteTime": {
     "end_time": "2023-09-25T13:49:40.219164700Z",
     "start_time": "2023-09-25T13:49:38.200044700Z"
    }
   },
   "outputs": [
    {
     "data": {
      "text/plain": "'1.0.4'"
     },
     "execution_count": 1,
     "metadata": {},
     "output_type": "execute_result"
    }
   ],
   "source": [
    "import os, sys #导入os和sys模块\n",
    "import numpy as np #导入numpy模块\n",
    "import pandas as pd #导入pandas模块\n",
    "import matplotlib.pyplot as plt #导入matplotlib.pyplot模块\n",
    "import seaborn as sns #导入seaborn模块\n",
    "import scanpy as sc #导入scanpy模块\n",
    "import torch #导入torch模块\n",
    "sys.path.append('./')  # uncomment for local import #将当前目录添加到系统路径中\n",
    "import tangram as tg #导入tangram模块\n",
    "\n",
    "%load_ext autoreload \n",
    "%autoreload 2 \n",
    "%matplotlib inline\n",
    "\n",
    "tg.__version__ #查看tangram版本"
   ]
  },
  {
   "cell_type": "markdown",
   "metadata": {
    "id": "fdss_i7bRk26"
   },
   "source": [
    "***\n",
    "#### Download the data\n",
    "- If you have `wget` installed, you can run the following code to automatically download and unzip the data."
   ]
  },
  {
   "cell_type": "code",
   "execution_count": 2,
   "metadata": {
    "id": "nzWYUmkhRk27",
    "outputId": "5ee09f66-c412-49a7-ceb6-dfcdc8b40e3d",
    "ExecuteTime": {
     "end_time": "2023-09-13T03:07:40.938548100Z",
     "start_time": "2023-09-13T03:07:40.596099900Z"
    }
   },
   "outputs": [],
   "source": [
    "# Skip this cells if data are already downloaded\n",
    "# !wget https://storage.googleapis.com/tommaso-brain-data/tangram_demo/mop_sn_tutorial.h5ad.gz -O data/mop_sn_tutorial.h5ad.gz\n",
    "# !wget https://storage.googleapis.com/tommaso-brain-data/tangram_demo/slideseq_MOp_1217.h5ad.gz -O data/slideseq_MOp_1217.h5ad.gz\n",
    "# !wget https://storage.googleapis.com/tommaso-brain-data/tangram_demo/MOp_markers.csv -O data/MOp_markers.csv\n",
    "# !gunzip -f data/mop_sn_tutorial.h5ad.gz\n",
    "# !gunzip -f data/slideseq_MOp_1217.h5ad.gz"
   ]
  },
  {
   "cell_type": "markdown",
   "metadata": {
    "id": "Y93BWMUTRk27"
   },
   "source": [
    "- If you do not have `wget` installed, manually download data from the links below:\n",
    "    - snRNA-seq datasets collected from adult mouse cortex:  [10Xv3 MOp](https://storage.googleapis.com/tommaso-brain-data/tangram_demo/mop_sn_tutorial.h5ad.gz).\n",
    "    - For spatial data, we will use one coronal slice of [Slide-seq2 data](\n",
    "https://storage.googleapis.com/tommaso-brain-data/tangram_demo/slideseq_MOp_1217.h5ad.gz) (adult mouse brain; MOp area).\n",
    "    - We will map them via a few hundred [marker genes](https://storage.googleapis.com/tommaso-brain-data/tangram_demo/MOp_markers.csv), found in [literature](https://www.biorxiv.org/content/10.1101/2020.06.04.105700v1).\n",
    "    - All datasets need to be unzipped: resulting `h5ad` and `csv` files should be placed in the `data` folder."
   ]
  },
  {
   "cell_type": "markdown",
   "metadata": {
    "id": "0M8n0UwbRk28"
   },
   "source": [
    "***\n",
    "#### Load spatial data\n",
    "- Spatial data need to be organized as a voxel-by-gene matrix. Here, Slide-seq data contains 9852 spatial voxels, in each of which there are 24518 genes measured."
   ]
  },
  {
   "cell_type": "code",
   "execution_count": 2,
   "metadata": {
    "id": "FCRCHnxWRk28",
    "outputId": "e6b179c9-3d81-4786-8ade-d2b6de74b697",
    "ExecuteTime": {
     "end_time": "2023-09-25T13:49:41.248165100Z",
     "start_time": "2023-09-25T13:49:40.219164700Z"
    }
   },
   "outputs": [
    {
     "data": {
      "text/plain": "AnnData object with n_obs × n_vars = 9852 × 24518\n    obs: 'orig.ident', 'nCount_RNA', 'nFeature_RNA', 'x', 'y'"
     },
     "execution_count": 2,
     "metadata": {},
     "output_type": "execute_result"
    }
   ],
   "source": [
    "path = os.path.join('./data', 'slideseq_MOp_1217.h5ad') # 空间数据路径\n",
    "ad_sp = sc.read_h5ad(path) # 读取空间数据\n",
    "ad_sp "
   ]
  },
  {
   "cell_type": "code",
   "execution_count": 3,
   "outputs": [
    {
     "data": {
      "text/plain": "                orig.ident  nCount_RNA  nFeature_RNA       x       y\nACCGGAACTTCTTC           0     14520.0          5453  3259.4  1233.7\nGGGGGGGGGGGGGG           0     22554.0          8660  1662.6  2097.6\nAAAGACCCAAAGGC           0     10774.0          4411  3050.3  1637.6\nTCGGCGGTATCATT           0     10581.0          4033  1389.3  2045.8\nTACGCCGGTACTGG           0     11075.0          4266  3022.8  1768.0\n...                    ...         ...           ...     ...     ...\nCAGTTGTGGAGCAG           0        10.0            10  1803.7  2009.3\nACTATGGTGTATCA           0        10.0            10  3538.7  1950.0\nCACCCCCTAGAAAT           0        10.0            10  2004.3  2032.4\nAAAGAATACGTACC           0        10.0            10  2161.3  2868.3\nTATTTGGGTTATTT           0        10.0            10  2057.4  2417.3\n\n[9852 rows x 5 columns]",
      "text/html": "<div>\n<style scoped>\n    .dataframe tbody tr th:only-of-type {\n        vertical-align: middle;\n    }\n\n    .dataframe tbody tr th {\n        vertical-align: top;\n    }\n\n    .dataframe thead th {\n        text-align: right;\n    }\n</style>\n<table border=\"1\" class=\"dataframe\">\n  <thead>\n    <tr style=\"text-align: right;\">\n      <th></th>\n      <th>orig.ident</th>\n      <th>nCount_RNA</th>\n      <th>nFeature_RNA</th>\n      <th>x</th>\n      <th>y</th>\n    </tr>\n  </thead>\n  <tbody>\n    <tr>\n      <th>ACCGGAACTTCTTC</th>\n      <td>0</td>\n      <td>14520.0</td>\n      <td>5453</td>\n      <td>3259.4</td>\n      <td>1233.7</td>\n    </tr>\n    <tr>\n      <th>GGGGGGGGGGGGGG</th>\n      <td>0</td>\n      <td>22554.0</td>\n      <td>8660</td>\n      <td>1662.6</td>\n      <td>2097.6</td>\n    </tr>\n    <tr>\n      <th>AAAGACCCAAAGGC</th>\n      <td>0</td>\n      <td>10774.0</td>\n      <td>4411</td>\n      <td>3050.3</td>\n      <td>1637.6</td>\n    </tr>\n    <tr>\n      <th>TCGGCGGTATCATT</th>\n      <td>0</td>\n      <td>10581.0</td>\n      <td>4033</td>\n      <td>1389.3</td>\n      <td>2045.8</td>\n    </tr>\n    <tr>\n      <th>TACGCCGGTACTGG</th>\n      <td>0</td>\n      <td>11075.0</td>\n      <td>4266</td>\n      <td>3022.8</td>\n      <td>1768.0</td>\n    </tr>\n    <tr>\n      <th>...</th>\n      <td>...</td>\n      <td>...</td>\n      <td>...</td>\n      <td>...</td>\n      <td>...</td>\n    </tr>\n    <tr>\n      <th>CAGTTGTGGAGCAG</th>\n      <td>0</td>\n      <td>10.0</td>\n      <td>10</td>\n      <td>1803.7</td>\n      <td>2009.3</td>\n    </tr>\n    <tr>\n      <th>ACTATGGTGTATCA</th>\n      <td>0</td>\n      <td>10.0</td>\n      <td>10</td>\n      <td>3538.7</td>\n      <td>1950.0</td>\n    </tr>\n    <tr>\n      <th>CACCCCCTAGAAAT</th>\n      <td>0</td>\n      <td>10.0</td>\n      <td>10</td>\n      <td>2004.3</td>\n      <td>2032.4</td>\n    </tr>\n    <tr>\n      <th>AAAGAATACGTACC</th>\n      <td>0</td>\n      <td>10.0</td>\n      <td>10</td>\n      <td>2161.3</td>\n      <td>2868.3</td>\n    </tr>\n    <tr>\n      <th>TATTTGGGTTATTT</th>\n      <td>0</td>\n      <td>10.0</td>\n      <td>10</td>\n      <td>2057.4</td>\n      <td>2417.3</td>\n    </tr>\n  </tbody>\n</table>\n<p>9852 rows × 5 columns</p>\n</div>"
     },
     "execution_count": 3,
     "metadata": {},
     "output_type": "execute_result"
    }
   ],
   "source": [
    "ad_sp.obs # 空间数据的中每个voxel的信息 \n",
    "# 包括nCount_RNA:每个voxel的RNA数量 nFeature_RNA:每个voxel的RNA特征数量\n",
    "# nFeature_RNA:每个voxel的RNA特征数量?"
   ],
   "metadata": {
    "collapsed": false,
    "ExecuteTime": {
     "end_time": "2023-09-25T13:49:42.564191800Z",
     "start_time": "2023-09-25T13:49:42.241600900Z"
    }
   }
  },
  {
   "cell_type": "markdown",
   "metadata": {
    "id": "OKR4wn8ARk28"
   },
   "source": [
    "- The voxel coordinates are saved in the fields `obs.x` and `obs.y` which we can use to visualize the spatial ROI. Each \"dot\" is the center of a 10um voxel."
   ]
  },
  {
   "cell_type": "code",
   "execution_count": 4,
   "metadata": {
    "id": "kHW2CYlDRk29",
    "outputId": "e55affae-deed-4724-d902-bd6e7498dfb8",
    "ExecuteTime": {
     "end_time": "2023-09-25T13:49:45.095387500Z",
     "start_time": "2023-09-25T13:49:44.761272500Z"
    }
   },
   "outputs": [
    {
     "data": {
      "text/plain": "<Figure size 640x480 with 1 Axes>",
      "image/png": "[encoded data removed]"
     },
     "metadata": {},
     "output_type": "display_data"
    }
   ],
   "source": [
    "xs = ad_sp.obs.x.values # 每个voxel的x坐标 xs是一个一维向量\n",
    "ys = ad_sp.obs.y.values # 每个voxel的y坐标 ys是一个一维向量\n",
    "# plt.axis('off') # 关闭坐标轴\n",
    "plt.scatter(xs, ys, s=.7) # 绘制散点图，s=.7表示散点的大小\n",
    "plt.gca().invert_yaxis() # 反转y轴"
   ]
  },
  {
   "cell_type": "markdown",
   "metadata": {
    "id": "rBMwlo3TRk29"
   },
   "source": [
    "***\n",
    "#### Single cell data\n",
    "\n",
    "- By single cell data, we generally mean either scRNAseq or snRNAseq.\n",
    "- We start by mapping the MOp 10Xv3 dataset, which contains single nuclei collected from a posterior region of the primary motor cortex.\n",
    "- They are approximately 26k profiled cells with 28k genes.\n",
    "\n",
    "---\n",
    "#### 单细胞数据\n",
    "- 通常情况下，我们所指的单细胞数据要么是单细胞RNA测序（scRNAseq），要么是单细胞核RNA测序（snRNAseq）。\n",
    "- 我们首先对包含来自初级运动皮层后部区域的单细胞核的MOp 10Xv3数据集进行了映射。\n",
    "- 这个数据集包含大约26,000个已经被分析的细胞，拥有28,000个基因。\n",
    "---"
   ]
  },
  {
   "cell_type": "code",
   "execution_count": 5,
   "metadata": {
    "id": "8pDPO0BeRk29",
    "outputId": "07e62277-769b-46f0-86df-beb9018972e8",
    "ExecuteTime": {
     "end_time": "2023-09-25T13:49:50.882743400Z",
     "start_time": "2023-09-25T13:49:48.769981800Z"
    }
   },
   "outputs": [
    {
     "data": {
      "text/plain": "AnnData object with n_obs × n_vars = 26431 × 27742\n    obs: 'QC', 'batch', 'class_color', 'class_id', 'class_label', 'cluster_color', 'cluster_labels', 'dataset', 'date', 'ident', 'individual', 'nCount_RNA', 'nFeature_RNA', 'nGene', 'nUMI', 'project', 'region', 'species', 'subclass_id', 'subclass_label'\n    layers: 'logcounts'"
     },
     "execution_count": 5,
     "metadata": {},
     "output_type": "execute_result"
    }
   ],
   "source": [
    "path = os.path.join('data','mop_sn_tutorial.h5ad') # 单细胞数据路径\n",
    "ad_sc = sc.read_h5ad(path)  # 读取单细胞数据\n",
    "ad_sc  "
   ]
  },
  {
   "cell_type": "code",
   "execution_count": 6,
   "outputs": [
    {
     "data": {
      "text/plain": "                                                     QC batch class_color  \\\nindex                                                                       \npBICCNsMMrMOpRPiM004d190318_CATTGCCGTGAGAGGG-4   PassQC     4     #00ADEE   \npBICCNsMMrMOpRPiM004d190318_TCAAGTGAGCACACAG-4   PassQC     4     #00ADEE   \npBICCNsMMrMOpRPiF008d190314_TTACGCCAGTCCCGAC-0   PassQC     0     #00ADEE   \npBICCNsMMrMOpRPiF005d190318_CTGCAGGCAGGCTATT-1   PassQC     1     #808080   \npBICCNsMMrMOpRPiF006d190314_AATGCCACACTCTGCT-9   PassQC     9     #808080   \n...                                                 ...   ...         ...   \npBICCNsMMrMOpRPiF003d190318_TGTCAGATCGAGCCTG-11  PassQC    11     #00ADEE   \npBICCNsMMrMOpRPiF008d190314_TGTGCGGAGCAGTCTT-0   PassQC     0     #808080   \npBICCNsMMrMOpRPiF007d190314_TTTGATCAGCGAGGAG-3   PassQC     3     #00ADEE   \npBICCNsMMrMOpRPiF003d190318_ATGTCTTGTAAGCAAT-11  PassQC    11     #00ADEE   \npBICCNsMMrMOpRPiM003d190318_GCATCTCGTTTCGCTC-10  PassQC    10     #808080   \n\n                                                 class_id    class_label  \\\nindex                                                                      \npBICCNsMMrMOpRPiM004d190318_CATTGCCGTGAGAGGG-4          2  Glutamatergic   \npBICCNsMMrMOpRPiM004d190318_TCAAGTGAGCACACAG-4          2  Glutamatergic   \npBICCNsMMrMOpRPiF008d190314_TTACGCCAGTCCCGAC-0          2  Glutamatergic   \npBICCNsMMrMOpRPiF005d190318_CTGCAGGCAGGCTATT-1          3   Non-Neuronal   \npBICCNsMMrMOpRPiF006d190314_AATGCCACACTCTGCT-9          3   Non-Neuronal   \n...                                                   ...            ...   \npBICCNsMMrMOpRPiF003d190318_TGTCAGATCGAGCCTG-11         2  Glutamatergic   \npBICCNsMMrMOpRPiF008d190314_TGTGCGGAGCAGTCTT-0          3   Non-Neuronal   \npBICCNsMMrMOpRPiF007d190314_TTTGATCAGCGAGGAG-3          2  Glutamatergic   \npBICCNsMMrMOpRPiF003d190318_ATGTCTTGTAAGCAAT-11         2  Glutamatergic   \npBICCNsMMrMOpRPiM003d190318_GCATCTCGTTTCGCTC-10         3   Non-Neuronal   \n\n                                                cluster_color  \\\nindex                                                           \npBICCNsMMrMOpRPiM004d190318_CATTGCCGTGAGAGGG-4        #2EB934   \npBICCNsMMrMOpRPiM004d190318_TCAAGTGAGCACACAG-4        #338C5E   \npBICCNsMMrMOpRPiF008d190314_TTACGCCAGTCCCGAC-0        #69419D   \npBICCNsMMrMOpRPiF005d190318_CTGCAGGCAGGCTATT-1        #8D7C5D   \npBICCNsMMrMOpRPiF006d190314_AATGCCACACTCTGCT-9        #8D7C5D   \n...                                                       ...   \npBICCNsMMrMOpRPiF003d190318_TGTCAGATCGAGCCTG-11       #338C5E   \npBICCNsMMrMOpRPiF008d190314_TGTGCGGAGCAGTCTT-0        #8BA38D   \npBICCNsMMrMOpRPiF007d190314_TTTGATCAGCGAGGAG-3        #52B4B8   \npBICCNsMMrMOpRPiF003d190318_ATGTCTTGTAAGCAAT-11       #2EB934   \npBICCNsMMrMOpRPiM003d190318_GCATCTCGTTTCGCTC-10       #8D6A62   \n\n                                                     cluster_labels  dataset  \\\nindex                                                                          \npBICCNsMMrMOpRPiM004d190318_CATTGCCGTGAGAGGG-4            L2/3 IT_3        2   \npBICCNsMMrMOpRPiM004d190318_TCAAGTGAGCACACAG-4           L6 CT Cpa6        2   \npBICCNsMMrMOpRPiF008d190314_TTACGCCAGTCCCGAC-0           L6b Col6a1        1   \npBICCNsMMrMOpRPiF005d190318_CTGCAGGCAGGCTATT-1   Astro Aqp4_Slc7a10        1   \npBICCNsMMrMOpRPiF006d190314_AATGCCACACTCTGCT-9   Astro Aqp4_Slc7a10        1   \n...                                                             ...      ...   \npBICCNsMMrMOpRPiF003d190318_TGTCAGATCGAGCCTG-11          L6 CT Cpa6        1   \npBICCNsMMrMOpRPiF008d190314_TGTGCGGAGCAGTCTT-0                PVM_1        1   \npBICCNsMMrMOpRPiF007d190314_TTTGATCAGCGAGGAG-3         L5 IT Pld5_2        1   \npBICCNsMMrMOpRPiF003d190318_ATGTCTTGTAAGCAAT-11           L2/3 IT_3        1   \npBICCNsMMrMOpRPiM003d190318_GCATCTCGTTTCGCTC-10                Endo        2   \n\n                                                                    date  \\\nindex                                                                      \npBICCNsMMrMOpRPiM004d190318_CATTGCCGTGAGAGGG-4   190318_CATTGCCGTGAGAGGG   \npBICCNsMMrMOpRPiM004d190318_TCAAGTGAGCACACAG-4   190318_TCAAGTGAGCACACAG   \npBICCNsMMrMOpRPiF008d190314_TTACGCCAGTCCCGAC-0   190314_TTACGCCAGTCCCGAC   \npBICCNsMMrMOpRPiF005d190318_CTGCAGGCAGGCTATT-1   190318_CTGCAGGCAGGCTATT   \npBICCNsMMrMOpRPiF006d190314_AATGCCACACTCTGCT-9   190314_AATGCCACACTCTGCT   \n...                                                                  ...   \npBICCNsMMrMOpRPiF003d190318_TGTCAGATCGAGCCTG-11  190318_TGTCAGATCGAGCCTG   \npBICCNsMMrMOpRPiF008d190314_TGTGCGGAGCAGTCTT-0   190314_TGTGCGGAGCAGTCTT   \npBICCNsMMrMOpRPiF007d190314_TTTGATCAGCGAGGAG-3   190314_TTTGATCAGCGAGGAG   \npBICCNsMMrMOpRPiF003d190318_ATGTCTTGTAAGCAAT-11  190318_ATGTCTTGTAAGCAAT   \npBICCNsMMrMOpRPiM003d190318_GCATCTCGTTTCGCTC-10  190318_GCATCTCGTTTCGCTC   \n\n                                                 ident individual  nCount_RNA  \\\nindex                                                                           \npBICCNsMMrMOpRPiM004d190318_CATTGCCGTGAGAGGG-4      60       M004     15189.0   \npBICCNsMMrMOpRPiM004d190318_TCAAGTGAGCACACAG-4      79       M004     11818.0   \npBICCNsMMrMOpRPiF008d190314_TTACGCCAGTCCCGAC-0      84       F008     14412.0   \npBICCNsMMrMOpRPiF005d190318_CTGCAGGCAGGCTATT-1      93       F005      4739.0   \npBICCNsMMrMOpRPiF006d190314_AATGCCACACTCTGCT-9      93       F006      7462.0   \n...                                                ...        ...         ...   \npBICCNsMMrMOpRPiF003d190318_TGTCAGATCGAGCCTG-11     79       F003     10983.0   \npBICCNsMMrMOpRPiF008d190314_TGTGCGGAGCAGTCTT-0     114       F008      1711.0   \npBICCNsMMrMOpRPiF007d190314_TTTGATCAGCGAGGAG-3      66       F007     20215.0   \npBICCNsMMrMOpRPiF003d190318_ATGTCTTGTAAGCAAT-11     60       F003     14461.0   \npBICCNsMMrMOpRPiM003d190318_GCATCTCGTTTCGCTC-10    103       M003      3650.0   \n\n                                                 nFeature_RNA  nGene     nUMI  \\\nindex                                                                           \npBICCNsMMrMOpRPiM004d190318_CATTGCCGTGAGAGGG-4           4816   3439   8522.0   \npBICCNsMMrMOpRPiM004d190318_TCAAGTGAGCACACAG-4           4031   5166  16883.0   \npBICCNsMMrMOpRPiF008d190314_TTACGCCAGTCCCGAC-0           4863   5042  19064.0   \npBICCNsMMrMOpRPiF005d190318_CTGCAGGCAGGCTATT-1           2384   4270  14240.0   \npBICCNsMMrMOpRPiF006d190314_AATGCCACACTCTGCT-9           3036   1556   2822.0   \n...                                                       ...    ...      ...   \npBICCNsMMrMOpRPiF003d190318_TGTCAGATCGAGCCTG-11          3886   5410  21221.0   \npBICCNsMMrMOpRPiF008d190314_TGTGCGGAGCAGTCTT-0           1165   4481  11826.0   \npBICCNsMMrMOpRPiF007d190314_TTTGATCAGCGAGGAG-3           5642   4892  14704.0   \npBICCNsMMrMOpRPiF003d190318_ATGTCTTGTAAGCAAT-11          4520   5027  16698.0   \npBICCNsMMrMOpRPiM003d190318_GCATCTCGTTTCGCTC-10          1953   4349  12974.0   \n\n                                                project region species  \\\nindex                                                                    \npBICCNsMMrMOpRPiM004d190318_CATTGCCGTGAGAGGG-4    BICCN  MOpRP      MM   \npBICCNsMMrMOpRPiM004d190318_TCAAGTGAGCACACAG-4    BICCN  MOpRP      MM   \npBICCNsMMrMOpRPiF008d190314_TTACGCCAGTCCCGAC-0    BICCN  MOpRP      MM   \npBICCNsMMrMOpRPiF005d190318_CTGCAGGCAGGCTATT-1    BICCN  MOpRP      MM   \npBICCNsMMrMOpRPiF006d190314_AATGCCACACTCTGCT-9    BICCN  MOpRP      MM   \n...                                                 ...    ...     ...   \npBICCNsMMrMOpRPiF003d190318_TGTCAGATCGAGCCTG-11   BICCN  MOpRP      MM   \npBICCNsMMrMOpRPiF008d190314_TGTGCGGAGCAGTCTT-0    BICCN  MOpRP      MM   \npBICCNsMMrMOpRPiF007d190314_TTTGATCAGCGAGGAG-3    BICCN  MOpRP      MM   \npBICCNsMMrMOpRPiF003d190318_ATGTCTTGTAAGCAAT-11   BICCN  MOpRP      MM   \npBICCNsMMrMOpRPiM003d190318_GCATCTCGTTTCGCTC-10   BICCN  MOpRP      MM   \n\n                                                 subclass_id subclass_label  \nindex                                                                        \npBICCNsMMrMOpRPiM004d190318_CATTGCCGTGAGAGGG-4             7        L2/3 IT  \npBICCNsMMrMOpRPiM004d190318_TCAAGTGAGCACACAG-4            13          L6 CT  \npBICCNsMMrMOpRPiF008d190314_TTACGCCAGTCCCGAC-0            14            L6b  \npBICCNsMMrMOpRPiF005d190318_CTGCAGGCAGGCTATT-1            16          Astro  \npBICCNsMMrMOpRPiF006d190314_AATGCCACACTCTGCT-9            16          Astro  \n...                                                      ...            ...  \npBICCNsMMrMOpRPiF003d190318_TGTCAGATCGAGCCTG-11           13          L6 CT  \npBICCNsMMrMOpRPiF008d190314_TGTGCGGAGCAGTCTT-0            22      Micro-PVM  \npBICCNsMMrMOpRPiF007d190314_TTTGATCAGCGAGGAG-3             8          L5 IT  \npBICCNsMMrMOpRPiF003d190318_ATGTCTTGTAAGCAAT-11            7        L2/3 IT  \npBICCNsMMrMOpRPiM003d190318_GCATCTCGTTTCGCTC-10           18           Endo  \n\n[26431 rows x 20 columns]",
      "text/html": "<div>\n<style scoped>\n    .dataframe tbody tr th:only-of-type {\n        vertical-align: middle;\n    }\n\n    .dataframe tbody tr th {\n        vertical-align: top;\n    }\n\n    .dataframe thead th {\n        text-align: right;\n    }\n</style>\n<table border=\"1\" class=\"dataframe\">\n  <thead>\n    <tr style=\"text-align: right;\">\n      <th></th>\n      <th>QC</th>\n      <th>batch</th>\n      <th>class_color</th>\n      <th>class_id</th>\n      <th>class_label</th>\n      <th>cluster_color</th>\n      <th>cluster_labels</th>\n      <th>dataset</th>\n      <th>date</th>\n      <th>ident</th>\n      <th>individual</th>\n      <th>nCount_RNA</th>\n      <th>nFeature_RNA</th>\n      <th>nGene</th>\n      <th>nUMI</th>\n      <th>project</th>\n      <th>region</th>\n      <th>species</th>\n      <th>subclass_id</th>\n      <th>subclass_label</th>\n    </tr>\n    <tr>\n      <th>index</th>\n      <th></th>\n      <th></th>\n      <th></th>\n      <th></th>\n      <th></th>\n      <th></th>\n      <th></th>\n      <th></th>\n      <th></th>\n      <th></th>\n      <th></th>\n      <th></th>\n      <th></th>\n      <th></th>\n      <th></th>\n      <th></th>\n      <th></th>\n      <th></th>\n      <th></th>\n      <th></th>\n    </tr>\n  </thead>\n  <tbody>\n    <tr>\n      <th>pBICCNsMMrMOpRPiM004d190318_CATTGCCGTGAGAGGG-4</th>\n      <td>PassQC</td>\n      <td>4</td>\n      <td>#00ADEE</td>\n      <td>2</td>\n      <td>Glutamatergic</td>\n      <td>#2EB934</td>\n      <td>L2/3 IT_3</td>\n      <td>2</td>\n      <td>190318_CATTGCCGTGAGAGGG</td>\n      <td>60</td>\n      <td>M004</td>\n      <td>15189.0</td>\n      <td>4816</td>\n      <td>3439</td>\n      <td>8522.0</td>\n      <td>BICCN</td>\n      <td>MOpRP</td>\n      <td>MM</td>\n      <td>7</td>\n      <td>L2/3 IT</td>\n    </tr>\n    <tr>\n      <th>pBICCNsMMrMOpRPiM004d190318_TCAAGTGAGCACACAG-4</th>\n      <td>PassQC</td>\n      <td>4</td>\n      <td>#00ADEE</td>\n      <td>2</td>\n      <td>Glutamatergic</td>\n      <td>#338C5E</td>\n      <td>L6 CT Cpa6</td>\n      <td>2</td>\n      <td>190318_TCAAGTGAGCACACAG</td>\n      <td>79</td>\n      <td>M004</td>\n      <td>11818.0</td>\n      <td>4031</td>\n      <td>5166</td>\n      <td>16883.0</td>\n      <td>BICCN</td>\n      <td>MOpRP</td>\n      <td>MM</td>\n      <td>13</td>\n      <td>L6 CT</td>\n    </tr>\n    <tr>\n      <th>pBICCNsMMrMOpRPiF008d190314_TTACGCCAGTCCCGAC-0</th>\n      <td>PassQC</td>\n      <td>0</td>\n      <td>#00ADEE</td>\n      <td>2</td>\n      <td>Glutamatergic</td>\n      <td>#69419D</td>\n      <td>L6b Col6a1</td>\n      <td>1</td>\n      <td>190314_TTACGCCAGTCCCGAC</td>\n      <td>84</td>\n      <td>F008</td>\n      <td>14412.0</td>\n      <td>4863</td>\n      <td>5042</td>\n      <td>19064.0</td>\n      <td>BICCN</td>\n      <td>MOpRP</td>\n      <td>MM</td>\n      <td>14</td>\n      <td>L6b</td>\n    </tr>\n    <tr>\n      <th>pBICCNsMMrMOpRPiF005d190318_CTGCAGGCAGGCTATT-1</th>\n      <td>PassQC</td>\n      <td>1</td>\n      <td>#808080</td>\n      <td>3</td>\n      <td>Non-Neuronal</td>\n      <td>#8D7C5D</td>\n      <td>Astro Aqp4_Slc7a10</td>\n      <td>1</td>\n      <td>190318_CTGCAGGCAGGCTATT</td>\n      <td>93</td>\n      <td>F005</td>\n      <td>4739.0</td>\n      <td>2384</td>\n      <td>4270</td>\n      <td>14240.0</td>\n      <td>BICCN</td>\n      <td>MOpRP</td>\n      <td>MM</td>\n      <td>16</td>\n      <td>Astro</td>\n    </tr>\n    <tr>\n      <th>pBICCNsMMrMOpRPiF006d190314_AATGCCACACTCTGCT-9</th>\n      <td>PassQC</td>\n      <td>9</td>\n      <td>#808080</td>\n      <td>3</td>\n      <td>Non-Neuronal</td>\n      <td>#8D7C5D</td>\n      <td>Astro Aqp4_Slc7a10</td>\n      <td>1</td>\n      <td>190314_AATGCCACACTCTGCT</td>\n      <td>93</td>\n      <td>F006</td>\n      <td>7462.0</td>\n      <td>3036</td>\n      <td>1556</td>\n      <td>2822.0</td>\n      <td>BICCN</td>\n      <td>MOpRP</td>\n      <td>MM</td>\n      <td>16</td>\n      <td>Astro</td>\n    </tr>\n    <tr>\n      <th>...</th>\n      <td>...</td>\n      <td>...</td>\n      <td>...</td>\n      <td>...</td>\n      <td>...</td>\n      <td>...</td>\n      <td>...</td>\n      <td>...</td>\n      <td>...</td>\n      <td>...</td>\n      <td>...</td>\n      <td>...</td>\n      <td>...</td>\n      <td>...</td>\n      <td>...</td>\n      <td>...</td>\n      <td>...</td>\n      <td>...</td>\n      <td>...</td>\n      <td>...</td>\n    </tr>\n    <tr>\n      <th>pBICCNsMMrMOpRPiF003d190318_TGTCAGATCGAGCCTG-11</th>\n      <td>PassQC</td>\n      <td>11</td>\n      <td>#00ADEE</td>\n      <td>2</td>\n      <td>Glutamatergic</td>\n      <td>#338C5E</td>\n      <td>L6 CT Cpa6</td>\n      <td>1</td>\n      <td>190318_TGTCAGATCGAGCCTG</td>\n      <td>79</td>\n      <td>F003</td>\n      <td>10983.0</td>\n      <td>3886</td>\n      <td>5410</td>\n      <td>21221.0</td>\n      <td>BICCN</td>\n      <td>MOpRP</td>\n      <td>MM</td>\n      <td>13</td>\n      <td>L6 CT</td>\n    </tr>\n    <tr>\n      <th>pBICCNsMMrMOpRPiF008d190314_TGTGCGGAGCAGTCTT-0</th>\n      <td>PassQC</td>\n      <td>0</td>\n      <td>#808080</td>\n      <td>3</td>\n      <td>Non-Neuronal</td>\n      <td>#8BA38D</td>\n      <td>PVM_1</td>\n      <td>1</td>\n      <td>190314_TGTGCGGAGCAGTCTT</td>\n      <td>114</td>\n      <td>F008</td>\n      <td>1711.0</td>\n      <td>1165</td>\n      <td>4481</td>\n      <td>11826.0</td>\n      <td>BICCN</td>\n      <td>MOpRP</td>\n      <td>MM</td>\n      <td>22</td>\n      <td>Micro-PVM</td>\n    </tr>\n    <tr>\n      <th>pBICCNsMMrMOpRPiF007d190314_TTTGATCAGCGAGGAG-3</th>\n      <td>PassQC</td>\n      <td>3</td>\n      <td>#00ADEE</td>\n      <td>2</td>\n      <td>Glutamatergic</td>\n      <td>#52B4B8</td>\n      <td>L5 IT Pld5_2</td>\n      <td>1</td>\n      <td>190314_TTTGATCAGCGAGGAG</td>\n      <td>66</td>\n      <td>F007</td>\n      <td>20215.0</td>\n      <td>5642</td>\n      <td>4892</td>\n      <td>14704.0</td>\n      <td>BICCN</td>\n      <td>MOpRP</td>\n      <td>MM</td>\n      <td>8</td>\n      <td>L5 IT</td>\n    </tr>\n    <tr>\n      <th>pBICCNsMMrMOpRPiF003d190318_ATGTCTTGTAAGCAAT-11</th>\n      <td>PassQC</td>\n      <td>11</td>\n      <td>#00ADEE</td>\n      <td>2</td>\n      <td>Glutamatergic</td>\n      <td>#2EB934</td>\n      <td>L2/3 IT_3</td>\n      <td>1</td>\n      <td>190318_ATGTCTTGTAAGCAAT</td>\n      <td>60</td>\n      <td>F003</td>\n      <td>14461.0</td>\n      <td>4520</td>\n      <td>5027</td>\n      <td>16698.0</td>\n      <td>BICCN</td>\n      <td>MOpRP</td>\n      <td>MM</td>\n      <td>7</td>\n      <td>L2/3 IT</td>\n    </tr>\n    <tr>\n      <th>pBICCNsMMrMOpRPiM003d190318_GCATCTCGTTTCGCTC-10</th>\n      <td>PassQC</td>\n      <td>10</td>\n      <td>#808080</td>\n      <td>3</td>\n      <td>Non-Neuronal</td>\n      <td>#8D6A62</td>\n      <td>Endo</td>\n      <td>2</td>\n      <td>190318_GCATCTCGTTTCGCTC</td>\n      <td>103</td>\n      <td>M003</td>\n      <td>3650.0</td>\n      <td>1953</td>\n      <td>4349</td>\n      <td>12974.0</td>\n      <td>BICCN</td>\n      <td>MOpRP</td>\n      <td>MM</td>\n      <td>18</td>\n      <td>Endo</td>\n    </tr>\n  </tbody>\n</table>\n<p>26431 rows × 20 columns</p>\n</div>"
     },
     "execution_count": 6,
     "metadata": {},
     "output_type": "execute_result"
    }
   ],
   "source": [
    "ad_sc.obs # 单细胞数据的每个细胞的信息"
   ],
   "metadata": {
    "collapsed": false,
    "ExecuteTime": {
     "end_time": "2023-09-25T13:49:51.311210400Z",
     "start_time": "2023-09-25T13:49:51.008510600Z"
    }
   }
  },
  {
   "cell_type": "code",
   "execution_count": 7,
   "outputs": [
    {
     "data": {
      "text/plain": "Empty DataFrame\nColumns: []\nIndex: [Xkr4, Gm1992, Gm37381, Rp1, Sox17, Gm37323, Mrpl15, Lypla1, Gm37988, Tcea1, Rgs20, Gm16041, Atp6v1h, Oprk1, Npbwr1, Rb1cc1, 4732440D04Rik, Alkal1, St18, Pcmtd1, Gm26901, Gm30414, Sntg1, Rrs1, Adhfe1, 3110035E14Rik, Gm29520, Mybl1, Vcpip1, 1700034P13Rik, Sgk3, Mcmdc2, Snhg6, Tcf24, Ppp1r42, Gm15818, Cops5, Cspp1, Arfgef1, Cpa6, Prex2, A830018L16Rik, Gm17644, Gm29663, Sulf1, Slco5a1, Gm29283, Prdm14, Ncoa2, Gm29570, Tram1, Lactb2, Xkr9, Eya1, Gm9947, Msc, Trpa1, Kcnb2, Terf1, Sbspon, 4930444P10Rik, Rpl7, Rdh10, Gm28095, Stau2, Gm7568, Ube2w, Eloc, D030040B21Rik, Tmem70, Ly96, Gm28376, Jph1, Gm28783, Gdap1, Gm28784, Pi15, Gm28154, Gm16070, Crispld1, Gm28153, Crisp4, Defb41, Gm15825, Tfap2d, Tfap2b, Pkhd1, 4930486I03Rik, Gm28653, Il17f, Mcm3, Gm28065, 6720483E21Rik, Paqr8, Efhc1, Tram2, Gm28287, Tmem14a, Gsta3, Gm28836, ...]\n\n[27742 rows x 0 columns]",
      "text/html": "<div>\n<style scoped>\n    .dataframe tbody tr th:only-of-type {\n        vertical-align: middle;\n    }\n\n    .dataframe tbody tr th {\n        vertical-align: top;\n    }\n\n    .dataframe thead th {\n        text-align: right;\n    }\n</style>\n<table border=\"1\" class=\"dataframe\">\n  <thead>\n    <tr style=\"text-align: right;\">\n      <th></th>\n    </tr>\n    <tr>\n      <th>index</th>\n    </tr>\n  </thead>\n  <tbody>\n    <tr>\n      <th>Xkr4</th>\n    </tr>\n    <tr>\n      <th>Gm1992</th>\n    </tr>\n    <tr>\n      <th>Gm37381</th>\n    </tr>\n    <tr>\n      <th>Rp1</th>\n    </tr>\n    <tr>\n      <th>Sox17</th>\n    </tr>\n    <tr>\n      <th>...</th>\n    </tr>\n    <tr>\n      <th>Ins1</th>\n    </tr>\n    <tr>\n      <th>AC133103.5</th>\n    </tr>\n    <tr>\n      <th>AC165294.2</th>\n    </tr>\n    <tr>\n      <th>AC125149.1</th>\n    </tr>\n    <tr>\n      <th>AC125149.2</th>\n    </tr>\n  </tbody>\n</table>\n<p>27742 rows × 0 columns</p>\n</div>"
     },
     "execution_count": 7,
     "metadata": {},
     "output_type": "execute_result"
    }
   ],
   "source": [
    "ad_sc.var # 单细胞数据的每个基因的信息"
   ],
   "metadata": {
    "collapsed": false,
    "ExecuteTime": {
     "end_time": "2023-09-25T13:49:54.734439500Z",
     "start_time": "2023-09-25T13:49:54.529162400Z"
    }
   }
  },
  {
   "cell_type": "markdown",
   "metadata": {
    "id": "wWg6V5fCRk2-"
   },
   "source": [
    "- Usually, we work with data in raw count form, especially if the spatial data are in raw count form as well.\n",
    "- If the data are in integer format, that probably means they are in raw count.\n",
    "---\n",
    "- 通常情况下，我们使用原始计数形式的数据，特别是如果空间数据也是原始计数形式的。\n",
    "- 如果数据是整数格式，那可能意味着它们是原始计数。"
   ]
  },
  {
   "cell_type": "code",
   "execution_count": 8,
   "metadata": {
    "id": "YT4mNBCVRk2-",
    "outputId": "815bf508-eca6-46b9-a309-4b954eed1cbf",
    "ExecuteTime": {
     "end_time": "2023-09-25T13:49:57.923481800Z",
     "start_time": "2023-09-25T13:49:56.507442300Z"
    }
   },
   "outputs": [
    {
     "data": {
      "text/plain": "array([  0.,   1.,   2.,   3.,   4.,   5.,   6.,   7.,   8.,   9.,  10.,\n        11.,  12.,  13.,  14.,  15.,  16.,  17.,  18.,  19.,  20.,  21.,\n        22.,  23.,  24.,  25.,  26.,  27.,  28.,  29.,  30.,  31.,  33.,\n        34.,  36.,  39.,  40.,  43.,  44.,  46.,  47.,  49.,  50.,  53.,\n        56.,  57.,  58.,  62.,  68.,  69.,  73.,  77.,  80.,  85.,  86.,\n        98., 104., 105., 118., 121., 126., 613.], dtype=float32)"
     },
     "execution_count": 8,
     "metadata": {},
     "output_type": "execute_result"
    }
   ],
   "source": [
    "np.unique(ad_sc.X.toarray()[0, :])  # 单细胞数据的第一个细胞的基因计数\n",
    "#[0,:]选择了转换后的密集数组中的第一行（行索引为0），并选择了该行的所有列。\n",
    "# 最后，np.unique() 是用于从数组中提取唯一值的NumPy函数。它将返回数组中不重复的值，并且这些值将按升序排列"
   ]
  },
  {
   "cell_type": "markdown",
   "metadata": {
    "id": "Ib3xjMJGRk2-"
   },
   "source": [
    "- Here, we only do some light pre-processing as library size correction (in scanpy, via `sc.pp.normalize`) to normalize the number of count within each cell to a fixed number.\n",
    "- Sometimes, we apply more sophisticated pre-processing methods, for example for batch correction, although mapping works great with raw data.\n",
    "- Ideally, the single cell and spatial datasets, should exhibit signals as similar as possible and the pre-processing pipeline should be finalized to harmonize the signals.\n",
    "---\n",
    "- 在这里，我们只做了一些轻量级的预处理，如图书馆大小校正（在scanpy中，通过sc.pp.normalize）将每个细胞中的计数数量归一化为固定数量。\n",
    "- 有时，我们会应用更复杂的预处理方法，例如批处理校正，尽管映射可以很好地处理原始数据。\n",
    "- 理想情况下，单细胞和空间数据集应该尽可能地呈现相似的信号，并且预处理流程应该最终完成以协调信号。\n",
    "---"
   ]
  },
  {
   "cell_type": "code",
   "execution_count": 9,
   "metadata": {
    "id": "DyY6iroXRk2-",
    "ExecuteTime": {
     "end_time": "2023-09-25T13:50:04.068784300Z",
     "start_time": "2023-09-25T13:50:03.642185800Z"
    }
   },
   "outputs": [],
   "source": [
    "sc.pp.normalize_total(ad_sc) # library size correction # 标准化"
   ]
  },
  {
   "cell_type": "markdown",
   "metadata": {
    "id": "JTrlyv5JRk2_"
   },
   "source": [
    "- It is a good idea to have annotations in the single cell data, as they will be projected on space after we map.\n",
    "- In this case, cell types are annotated in the `subclass_label` field, for which we plot cell counts.\n",
    "- Note that cell type proportion should be similar in the two datasets: for example, if `Meis` is a rare cell type in the snRNA-seq then it is expected to be a rare one even in the spatial data as well.\n",
    "---\n",
    "- 在单细胞数据中添加注释是一个好主意，因为在我们进行映射之后，它们将被投射到空间上。\n",
    "- 在这种情况下，细胞类型被注释在`subclass_label`字段中，我们将在其中绘制细胞计数。\n",
    "- 请注意，在这两个数据集中，细胞类型的比例应该是相似的：例如，如果在snRNA-seq中`Meis`是一种罕见的细胞类型，那么在空间数据中它也应该是一种罕见的细胞类型。"
   ]
  },
  {
   "cell_type": "code",
   "execution_count": 9,
   "metadata": {
    "id": "G_VAlYuyRk2_",
    "outputId": "db4a32b4-64e0-4608-cab6-45525126d4f3",
    "ExecuteTime": {
     "end_time": "2023-09-24T12:48:21.857057400Z",
     "start_time": "2023-09-24T12:48:21.839879700Z"
    }
   },
   "outputs": [
    {
     "data": {
      "text/plain": "L5 IT        5623\nOligo        4330\nL2/3 IT      3555\nL6 CT        3118\nAstro        2600\nMicro-PVM    1121\nPvalb         972\nL6 IT         919\nL5 ET         903\nL5/6 NP       649\nSst           627\nVip           435\nL6b           361\nEndo          357\nLamp5         332\nVLMC          248\nPeri          187\nSncg           94\nName: subclass_label, dtype: int64"
     },
     "execution_count": 9,
     "metadata": {},
     "output_type": "execute_result"
    }
   ],
   "source": [
    "ad_sc.obs.subclass_label.value_counts() # cell type counts # 细胞类型计数"
   ]
  },
  {
   "cell_type": "markdown",
   "metadata": {
    "id": "Uvr0-bi_Rk2_"
   },
   "source": [
    "***\n",
    "#### Prepare to map\n",
    "---\n",
    "#### 准备映射"
   ]
  },
  {
   "cell_type": "markdown",
   "metadata": {
    "id": "kHXAsK0WRk2_"
   },
   "source": [
    "- Tangram learns a spatial alignment of the single cell data so that  _the gene expression of the aligned single cell data is as similar as possible to that of the spatial data_.\n",
    "- In doing this, Tangram only looks at a subset genes, specified by the user, called the training genes.\n",
    "- The choice of the training genes is a delicate step for mapping: they need to bear interesting signals and to be measured with high quality.\n",
    "- Typically, a good start is to choose 100-1000 top marker genes, evenly stratified across cell types. Sometimes, we also use the entire transcriptome, or perform different mappings using different set of training genes to see how much the result change.\n",
    "- For this case, we choose 253 marker genes of the MOp area which were curated [in a different study](https://www.biorxiv.org/content/10.1101/2020.06.04.105700v1).\n",
    "---\n",
    "- Tangram学习单细胞数据的空间对齐，以便 _对齐后的单细胞数据的基因表达与空间数据的基因表达尽可能相似_。\n",
    "- 在这样做时，Tangram只查看用户指定的一组基因子集，称为训练基因。\n",
    "- 训练基因的选择是映射的一个微妙的步骤：它们需要承载有趣的信号并且具有高质量的测量。\n",
    "- 通常，一个好的开始是选择100-1000个顶级标记基因，均匀分层在细胞类型之间。有时，我们也使用整个转录组，或者使用不同的训练基因集执行不同的映射，以查看结果的变化程度。\n",
    "- 对于这种情况，我们选择了MOp区域的253个标记基因，这些基因在[不同的研究中进行了筛选](https://www.biorxiv.org/content/10.1101/2020.06.04.105700v1)。\n",
    "---\n"
   ]
  },
  {
   "cell_type": "code",
   "execution_count": 10,
   "metadata": {
    "id": "6tW2Yk2fRk3A",
    "outputId": "c85547d6-783e-41de-9721-b2c74b9e0e60",
    "ExecuteTime": {
     "end_time": "2023-09-25T13:50:07.965131700Z",
     "start_time": "2023-09-25T13:50:07.744550300Z"
    }
   },
   "outputs": [
    {
     "data": {
      "text/plain": "['1700022I11Rik',\n '1810046K07Rik',\n '5031425F14Rik',\n '5730522E02Rik',\n 'Acta2',\n 'Adam2',\n 'Adamts2',\n 'Adamts4',\n 'Adra1b',\n 'Alk',\n 'Ankfn1',\n 'Ano4',\n 'Aqp4',\n 'Asic4',\n 'B4galnt2',\n 'B4galnt3',\n 'Barx2',\n 'Bcl11b',\n 'Bdnf',\n 'Bgn',\n 'Blnk',\n 'Bmpr1b',\n 'Brinp3',\n 'C1ql3',\n 'C1qtnf7',\n 'Cacng5',\n 'Calb1',\n 'Calb2',\n 'Camk2d',\n 'Car3',\n 'Cbln2',\n 'Cbln4',\n 'Ccbe1',\n 'Ccdc162',\n 'Ccdc3',\n 'Ccdc80',\n 'Ccnb1',\n 'Cd14',\n 'Cd24a',\n 'Cdca7',\n 'Cdcp1',\n 'Cdh12',\n 'Cdh13',\n 'Cdh20',\n 'Cdh9',\n 'Ceacam9',\n 'Cemip',\n 'Chat',\n 'Chn2',\n 'Chodl',\n 'Chrm2',\n 'Chrna2',\n 'Cldn5',\n 'Clrn1',\n 'Cnr1',\n 'Cntnap5b',\n 'Cobll1',\n 'Col14a1',\n 'Col15a1',\n 'Col23a1',\n 'Col24a1',\n 'Col25a1',\n 'Corin',\n 'Cplx3',\n 'Crhr2',\n 'Crispld2',\n 'Cspg4',\n 'Ctss',\n 'Cux2',\n 'Cxcl14',\n 'Daam2',\n 'Dmkn',\n 'Dnase1l3',\n 'Dscaml1',\n 'Egfem1',\n 'Egfr',\n 'Egln3',\n 'Egr2',\n 'Elfn1',\n 'Enpp6',\n 'Epha7',\n 'Fam19a2',\n 'Fam84b',\n 'Fbxl7',\n 'Fezf2',\n 'Flrt3',\n 'Flt1',\n 'Fndc7',\n 'Fosb',\n 'Foxp2',\n 'Frem2',\n 'Fst',\n 'Gad1',\n 'Gad2',\n 'Gfap',\n 'Glra1',\n 'Gpc6',\n 'Grik1',\n 'Grin3a',\n 'Grm1',\n 'Grm8',\n 'Hpse',\n 'Hs3st5',\n 'Igf2',\n 'Igfbp4',\n 'Igfbp5',\n 'Ikzf2',\n 'Il1rapl2',\n 'Il4ra',\n 'Inpp4b',\n 'Iqgap2',\n 'Itgb8',\n 'Kcng1',\n 'Kcnj8',\n 'L3mbtl4',\n 'Lama3',\n 'Lamp5',\n 'Lhx6',\n 'Lmo1',\n 'Lsp1',\n 'Ltf',\n 'Luzp2',\n 'Lypd1',\n 'Lyzl4',\n 'Marcksl1',\n 'Meis2',\n 'Moxd1',\n 'Mrc1',\n 'Mrgprx2',\n 'Muc20',\n 'Myh14',\n 'Ndst4',\n 'Nhs',\n 'Nkain3',\n 'Nnmt',\n 'Nos1',\n 'Npas1',\n 'Npnt',\n 'Npsr1',\n 'Npy2r',\n 'Nr2f2',\n 'Nr4a1',\n 'Nr4a2',\n 'Ntng2',\n 'Nxph1',\n 'Nxph2',\n 'Nxph4',\n 'Olah',\n 'Olfm3',\n 'Opalin',\n 'Oprk1',\n 'Osr1',\n 'Otof',\n 'Parm1',\n 'Pcdh8',\n 'Pde11a',\n 'Pdgfc',\n 'Pdgfra',\n 'Pdlim5',\n 'Penk',\n 'Phactr2',\n 'Plch1',\n 'Plcxd3',\n 'Pld5',\n 'Plekhg3',\n 'Pou3f1',\n 'Pou3f3',\n 'Pou6f2',\n 'Prdm8',\n 'Prok2',\n 'Prokr2',\n 'Prox1',\n 'Prr16',\n 'Prss12',\n 'Prss23',\n 'Ptger3',\n 'Ptprk',\n 'Ptprm',\n 'Ptprt',\n 'Ptpru',\n 'Pvalb',\n 'Pxdc1',\n 'Rab3b',\n 'Ramp1',\n 'Reln',\n 'Rerg',\n 'Rfx3',\n 'Rgs5',\n 'Rgs6',\n 'Rnf152',\n 'Ror1',\n 'Rorb',\n 'Rspo1',\n 'Rxfp1',\n 'Rxfp2',\n 'Satb2',\n 'Scgn',\n 'Sema3e',\n 'Sema5a',\n 'Serpinf1',\n 'Sertm1',\n 'Sgcd',\n 'Shisa9',\n 'Slc17a6',\n 'Slc17a7',\n 'Slc17a8',\n 'Slc25a13',\n 'Slc30a3',\n 'Slc32a1',\n 'Slc44a5',\n 'Slco5a1',\n 'Sncg',\n 'Sox10',\n 'Sox6',\n 'Sp8',\n 'Spon1',\n 'Sst',\n 'St6galnac5',\n 'Sulf1',\n 'Sulf2',\n 'Syndig1',\n 'Syt10',\n 'Syt6',\n 'Tac2',\n 'Tbc1d4',\n 'Tcap',\n 'Teddm3',\n 'Tenm3',\n 'Th',\n 'Thbs2',\n 'Thsd7a',\n 'Timp3',\n 'Tmem163',\n 'Tmtc2',\n 'Tnfaip6',\n 'Tox',\n 'Trp53i11',\n 'Trpc4',\n 'Trpc6',\n 'Tshz2',\n 'Tunar',\n 'Ubash3b',\n 'Unc13c',\n 'Unc5b',\n 'Unc5d',\n 'Ust',\n 'Vip',\n 'Vipr2',\n 'Vtn',\n 'Vwc2',\n 'Wipf3',\n 'Wnt7b',\n 'Zfp804b']"
     },
     "execution_count": 10,
     "metadata": {},
     "output_type": "execute_result"
    }
   ],
   "source": [
    "df_genes = pd.read_csv('data/MOp_markers.csv', index_col=0) # 读取基因列表 index_col=0表示第一列作为索引\n",
    "markers = np.reshape(df_genes.values, (-1, ))   # 将基因列表转换为一维数组，-1表示自动计算行数\n",
    "markers = list(markers) # 转换为列表\n",
    "len(markers)    # 基因数量\n",
    "markers"
   ]
  },
  {
   "cell_type": "markdown",
   "metadata": {
    "id": "B8ps6XoyRk3A"
   },
   "source": [
    "- We now need to prepare the datasets for mapping by creating `training_genes` field in `uns` dictionary of the two AnnData structures. \n",
    "- This `training_genes` field contains genes subset on the list of training genes. This field will be used later inside the mapping function to create training datasets.\n",
    "- Also, the gene order needs to be the same in the datasets. This is because Tangram maps using only gene expression, so the $j$-th column in each matrix must correspond to the same gene.\n",
    "- And if data entries of a gene are all zero, this gene will be removed\n",
    "- This task is performed by the helper `pp_adatas`.\n",
    "- In the pp_adatas function, the gene names are converted to lower case to get rid of the inconsistent capitalization. If this is not wanted, you can set the parameter gene_to_lowercase = False \n",
    "---\n",
    "- 现在，我们需要通过在两个AnnData结构的`uns`字典中创建`training_genes`字段来准备映射的数据集。\n",
    "- 这个`training_genes`字段包含了在训练基因列表上的基因子集。此字段稍后将在映射函数内部用于创建训练数据集。\n",
    "- 此外，数据集中的基因顺序需要保持一致。这是因为Tangram仅使用基因表达来进行映射，因此每个矩阵中的第$j$列必须对应于相同的基因。\n",
    "- 如果某个基因的所有数据条目都为零，那么将删除该基因。\n",
    "- 这个任务由辅助函数`pp_adatas`执行。\n",
    "- 在`pp_adatas`函数中，基因名称被转换为小写，以消除不一致的大写问题。如果不需要这样做，可以将参数`gene_to_lowercase`设置为`False`。"
   ]
  },
  {
   "cell_type": "code",
   "execution_count": 11,
   "metadata": {
    "id": "aacPVNwcRk3A",
    "outputId": "265e053d-c3c3-49c9-ac28-080dce851143",
    "ExecuteTime": {
     "end_time": "2023-09-25T13:50:18.702840100Z",
     "start_time": "2023-09-25T13:50:12.231396700Z"
    }
   },
   "outputs": [
    {
     "name": "stderr",
     "output_type": "stream",
     "text": [
      "INFO:root:249 training genes are saved in `uns``training_genes` of both single cell and spatial Anndatas.\n",
      "INFO:root:18000 overlapped genes are saved in `uns``overlap_genes` of both single cell and spatial Anndatas.\n",
      "INFO:root:uniform based density prior is calculated and saved in `obs``uniform_density` of the spatial Anndata.\n",
      "INFO:root:rna count based density prior is calculated and saved in `obs``rna_count_based_density` of the spatial Anndata.\n"
     ]
    }
   ],
   "source": [
    "tg.pp_adatas(ad_sc, ad_sp, genes=markers) # 准备映射数据\n",
    "#INFO:root:已保存了249个训练基因在单细胞和空间AnnData的`uns``training_genes`字段中。\n",
    "# INFO:root:已保存了18000个重叠基因在单细胞和空间AnnData的`uns``overlap_genes`字段中。\n",
    "# INFO:root:已计算并保存了基于均匀分布的密度先验在空间AnnData的`obs``uniform_density`字段中。 怎么计算的？\n",
    "# INFO:root:已计算并保存了基于RNA计数的密度先验在空间AnnData的`obs``rna_count_based_density`字段中。"
   ]
  },
  {
   "cell_type": "markdown",
   "metadata": {
    "id": "ogpnv4agRk3A"
   },
   "source": [
    "- You'll now notice that the two datasets now contain 249 genes, but 253 markers were provided.\n",
    "- This is because the marker genes need to be shared by both dataset. If a gene is missing, `pp_adatas` will just take it out.\n",
    "- Finally, the `assert` line below is a good way to ensure that the genes in the `training_genes` field in `uns` are actually ordered in both `AnnData`s.\n",
    "---\n",
    "- 现在，您会注意到这两个数据集现在包含249个基因，但是提供了253个标记。\n",
    "- 这是因为标记基因需要被两个数据集共享。如果缺少一个基因，`pp_adatas`将把它拿出来。\n",
    "- 最后，下面的`assert`行是一种很好的方法，可以确保`uns`中的`training_genes`字段中的基因实际上在两个`AnnData`中都是有序的。\n",
    "- `assert`语句用于判断一个表达式，在表达式条件为 false 的时候触发异常。"
   ]
  },
  {
   "cell_type": "code",
   "execution_count": 12,
   "metadata": {
    "id": "OaPeda1zRk3B",
    "outputId": "d9de5f76-0602-4c8d-f21e-de78c3f6f04f",
    "ExecuteTime": {
     "end_time": "2023-09-24T14:38:06.044887800Z",
     "start_time": "2023-09-24T14:38:06.029157800Z"
    }
   },
   "outputs": [
    {
     "data": {
      "text/plain": "AnnData object with n_obs × n_vars = 26431 × 26496\n    obs: 'QC', 'batch', 'class_color', 'class_id', 'class_label', 'cluster_color', 'cluster_labels', 'dataset', 'date', 'ident', 'individual', 'nCount_RNA', 'nFeature_RNA', 'nGene', 'nUMI', 'project', 'region', 'species', 'subclass_id', 'subclass_label'\n    var: 'n_cells'\n    uns: 'training_genes', 'overlap_genes'\n    layers: 'logcounts'"
     },
     "execution_count": 12,
     "metadata": {},
     "output_type": "execute_result"
    }
   ],
   "source": [
    "ad_sc "
   ]
  },
  {
   "cell_type": "code",
   "execution_count": 12,
   "metadata": {
    "id": "EvDXn9x2Rk3B",
    "outputId": "ffb28b9d-994b-4537-d61d-d47fc952a725",
    "ExecuteTime": {
     "end_time": "2023-09-13T03:32:18.897544800Z",
     "start_time": "2023-09-13T03:32:18.694010200Z"
    }
   },
   "outputs": [
    {
     "data": {
      "text/plain": "AnnData object with n_obs × n_vars = 9852 × 20864\n    obs: 'orig.ident', 'nCount_RNA', 'nFeature_RNA', 'x', 'y', 'uniform_density', 'rna_count_based_density'\n    var: 'n_cells'\n    uns: 'training_genes', 'overlap_genes'"
     },
     "execution_count": 12,
     "metadata": {},
     "output_type": "execute_result"
    }
   ],
   "source": [
    "ad_sp"
   ]
  },
  {
   "cell_type": "code",
   "execution_count": 12,
   "metadata": {
    "id": "hofqYP8cRk3B",
    "ExecuteTime": {
     "end_time": "2023-09-25T13:50:18.908229500Z",
     "start_time": "2023-09-25T13:50:18.702840100Z"
    }
   },
   "outputs": [],
   "source": [
    "assert ad_sc.uns['training_genes'] == ad_sp.uns['training_genes'] # `assert`语句用于判断一个表达式，在表达式条件为 false 的时候触发异常。"
   ]
  },
  {
   "cell_type": "markdown",
   "metadata": {
    "id": "OrJgYOyeRk3B"
   },
   "source": [
    "***\n",
    "#### Map"
   ]
  },
  {
   "cell_type": "markdown",
   "metadata": {
    "id": "mp4eGNPCRk3B"
   },
   "source": [
    "- We can now train the model (_ie_ map the single cell data onto space).\n",
    "- Mapping should be interrupted after the score plateaus,which can be controlled by passing the `num_epochs` parameter. \n",
    "- The score measures the similarity between the gene expression of the mapped cells vs spatial data: higher score means better mapping.\n",
    "- Note that we obtained excellent mapping even if Tangram converges to a low scores (the typical case is when the spatial data are very sparse): we use the score merely to assess convergence.\n",
    "- If you are running Tangram with a GPU, uncomment `device=cuda:0` and comment the line `device=cpu`. On a MacBook Pro 2018, it takes ~1h to run. On a P100 GPU it should be done in a few minutes.\n",
    "- For this basic mapping, we do not use regularizers. More sophisticated loss functions can be used using the Tangram library (refer to manuscript or dive into the code). For example, you can pass your `density_prior` with the hyperparameter `lambda_d` to regularize the spatial density of cells. Currently `uniform`, `rna_count_based` and customized input array are supported for `density_prior` argument.\n",
    "- Instead of mapping single cells, we can \"average\" the cells within a cluster and map the averaged cells instead, which drammatically improves performances. This suggestion was proposed by Sten Linnarsson. To activate this mode, select `mode='clusters'` and pass the annotation field to `cluster_label`.\n",
    "---\n",
    "- 我们现在可以训练模型（即将单细胞数据映射到空间）。\n",
    "- 映射应该在分数趋于平稳时中断，可以通过传递`num_epochs`参数来控制。 \n",
    "- 分数衡量了映射细胞的基因表达与空间数据之间的相似性：分数越高，映射越好。\n",
    "- 请注意，即使Tangram收敛到较低的分数（典型情况是当空间数据非常稀疏时），我们仍然可以获得出色的映射结果：我们仅使用分数来评估收敛性。\n",
    "- 如果您在使用GPU上运行Tangram，请取消注释`device=cuda:0`并注释掉`device=cpu`这一行。在MacBook Pro 2018上运行大约需要1小时。在P100 GPU上，应该在几分钟内完成。\n",
    "- 对于这种基本映射，我们不使用正则化器。可以使用Tangram库来使用更复杂的损失函数（请参考手稿或深入研究代码）。例如，您可以通过超参数`lambda_d`传递您的`density_prior`来对细胞的空间密度进行正则化。目前支持`density_prior`参数的`uniform`、`rna_count_based`和自定义输入数组。\n",
    "- 与映射单个细胞不同，我们可以在一个聚类内“平均”细胞，然后映射平均细胞，这将极大地提高性能。这个建议是由Sten Linnarsson提出的。要激活此模式，请选择`mode='clusters'`并将注释字段传递给`cluster_label`。"
   ]
  },
  {
   "cell_type": "code",
   "execution_count": 13,
   "metadata": {
    "id": "qPfw-v00Rk3C",
    "outputId": "e48516fd-c7ea-4c04-dc8b-860f58f5ce3c",
    "ExecuteTime": {
     "end_time": "2023-09-25T15:01:03.724983300Z",
     "start_time": "2023-09-25T13:50:22.123664200Z"
    }
   },
   "outputs": [
    {
     "name": "stderr",
     "output_type": "stream",
     "text": [
      "INFO:root:Allocate tensors for mapping.\n",
      "INFO:root:Begin training with 249 genes and rna_count_based density_prior in cells mode...\n",
      "INFO:root:Printing scores every 100 epochs.\n"
     ]
    },
    {
     "name": "stdout",
     "output_type": "stream",
     "text": [
      "Score: 0.103, KL reg: 0.558\n",
      "Score: 0.781, KL reg: 0.014\n",
      "Score: 0.808, KL reg: 0.006\n",
      "Score: 0.813, KL reg: 0.005\n",
      "Score: 0.815, KL reg: 0.005\n",
      "Score: 0.816, KL reg: 0.005\n",
      "Score: 0.817, KL reg: 0.005\n",
      "Score: 0.818, KL reg: 0.005\n",
      "Score: 0.818, KL reg: 0.005\n",
      "Score: 0.818, KL reg: 0.005\n"
     ]
    },
    {
     "name": "stderr",
     "output_type": "stream",
     "text": [
      "INFO:root:Saving results..\n"
     ]
    }
   ],
   "source": [
    "ad_map = tg.map_cells_to_space(\n",
    "    adata_sc=ad_sc,\n",
    "    adata_sp=ad_sp,\n",
    "    device='cpu',\n",
    "    # device='cuda:0',\n",
    ")"
   ]
  },
  {
   "cell_type": "code",
   "execution_count": 15,
   "outputs": [],
   "source": [
    "ad_map.write_h5ad('data/ad_map.h5ad')"
   ],
   "metadata": {
    "collapsed": false,
    "ExecuteTime": {
     "end_time": "2023-09-25T15:07:11.228940400Z",
     "start_time": "2023-09-25T15:07:10.018397600Z"
    }
   }
  },
  {
   "cell_type": "markdown",
   "metadata": {
    "id": "7ruh7eqPRk3C"
   },
   "source": [
    "- The mapping results are stored in the returned `AnnData` structure, saved as `ad_map`, structured as following:\n",
    "    - The cell-by-spot matrix `X` contains the probability of cell $i$ to be in spot $j$.\n",
    "    - The `obs` dataframe contains the metadata of the single cells.\n",
    "    - The `var` dataframe contains the metadata of the spatial data.\n",
    "    - The `uns` dictionary contains a dataframe with various information about the training genes (saved ad `train_genes_df`).\n",
    "- We can now save the mapping results for post-analysis.\n",
    "---\n",
    "- 映射结果存储在返回的`AnnData`结构中，保存为`ad_map`，其结构如下：\n",
    "    - 细胞-spot矩阵 `X` 包含了细胞 $i$ 定位在斑点 $j$ 的概率。\n",
    "    - `obs` 数据框包含了单个细胞的元数据。\n",
    "    - `var` 数据框包含了空间数据的元数据。\n",
    "    - `uns` 字典包含了有关训练基因的各种信息（保存为`train_genes_df`）。\n",
    "- 我们现在可以保存映射结果以供后续分析使用。"
   ]
  },
  {
   "cell_type": "markdown",
   "metadata": {
    "id": "VoWStRB2Rk3C"
   },
   "source": [
    "***\n",
    "#### Analysis"
   ]
  },
  {
   "cell_type": "markdown",
   "metadata": {
    "id": "pSsr1eDPRk3C"
   },
   "source": [
    "- The most common application for mapping single cell data onto space is to transfer the cell type annotations onto space.\n",
    "- This is dona via `plot_cell_annotation`, which visualizes spatial probability maps of the `annotation` in the `obs` dataframe (here, the `subclass_label` field). You can set `robust` argument to `True` and at the same time set the `perc` argument to set the range to the colormap, which would help remove outliers.\n",
    "- The following plots recover cortical layers of excitatory neurons and sparse patterns of glia cells. The boundaries of the cortex are defined by layer 6b (cell type _L6b_) and oligodendrocytes are found concentrated into sub-cortical region, as expected.\n",
    "- Yet, the _VLMC_ cell type patterns does not seem correct: _VLMC_ cells are clustered in the first cortical layer, whereas here are sparse in the ROI. This usually means that either (1) we have not used good marker genes for _VLMC_ cells in our training genes (2) the present marker genes are very sparse in the spatial data, therefore they don't contain good mapping signal.\n",
    "---\n",
    "- 将单细胞数据映射到空间最常见的应用是将细胞类型的注释传输到空间中。\n",
    "- 这是通过使用`plot_cell_annotation`来完成的，它可视化了`obs`数据框中的`annotation`（在这里是`subclass_label`字段）的空间概率图。您可以将`robust`参数设置为`True`，同时设置`perc`参数来调整颜色映射的范围，以帮助去除异常值。\n",
    "- 以下图表展示了兴奋性神经元的皮层层次结构和胶质细胞的稀疏模式。皮层的边界由第六层（细胞类型_L6b_）定义，而寡养细胞则集中在次皮层区域，正如预期的那样。\n",
    "- 然而，_VLMC_细胞类型的模式似乎不正确：_VLMC_细胞在第一皮层中成簇，而在ROI中却分散稀疏。这通常意味着要么（1）我们没有在训练基因中使用好的_VLMC_细胞标记基因，要么（2）现有的标记基因在空间数据中非常稀疏，因此它们不包含良好的映射信号。"
   ]
  },
  {
   "cell_type": "code",
   "execution_count": 16,
   "metadata": {
    "id": "ypVHajoYRk3C",
    "outputId": "22cfcda0-58ba-4cfb-9db5-dac6454c35ef",
    "tags": [
     "nbsphinx-thumbnail"
    ],
    "ExecuteTime": {
     "end_time": "2023-09-25T15:07:47.828736500Z",
     "start_time": "2023-09-25T15:07:41.755436800Z"
    }
   },
   "outputs": [
    {
     "name": "stderr",
     "output_type": "stream",
     "text": [
      "INFO:root:spatial prediction dataframe is saved in `obsm` `tangram_ct_pred` of the spatial AnnData.\n"
     ]
    },
    {
     "ename": "AttributeError",
     "evalue": "'ColormapRegistry' object has no attribute 'get_cmap'",
     "output_type": "error",
     "traceback": [
      "\u001B[1;31m---------------------------------------------------------------------------\u001B[0m",
      "\u001B[1;31mAttributeError\u001B[0m                            Traceback (most recent call last)",
      "Cell \u001B[1;32mIn[16], line 5\u001B[0m\n\u001B[0;32m      3\u001B[0m tg\u001B[38;5;241m.\u001B[39mproject_cell_annotations(ad_map, ad_sp, annotation\u001B[38;5;241m=\u001B[39m\u001B[38;5;124m'\u001B[39m\u001B[38;5;124msubclass_label\u001B[39m\u001B[38;5;124m'\u001B[39m)\n\u001B[0;32m      4\u001B[0m annotation_list \u001B[38;5;241m=\u001B[39m \u001B[38;5;28mlist\u001B[39m(pd\u001B[38;5;241m.\u001B[39munique(ad_sc\u001B[38;5;241m.\u001B[39mobs[\u001B[38;5;124m'\u001B[39m\u001B[38;5;124msubclass_label\u001B[39m\u001B[38;5;124m'\u001B[39m]))\n\u001B[1;32m----> 5\u001B[0m \u001B[43mtg\u001B[49m\u001B[38;5;241;43m.\u001B[39;49m\u001B[43mplot_cell_annotation_sc\u001B[49m\u001B[43m(\u001B[49m\u001B[43mad_sp\u001B[49m\u001B[43m,\u001B[49m\u001B[43m \u001B[49m\u001B[43mannotation_list\u001B[49m\u001B[43m,\u001B[49m\u001B[43mx\u001B[49m\u001B[38;5;241;43m=\u001B[39;49m\u001B[38;5;124;43m'\u001B[39;49m\u001B[38;5;124;43mx\u001B[39;49m\u001B[38;5;124;43m'\u001B[39;49m\u001B[43m,\u001B[49m\u001B[43m \u001B[49m\u001B[43my\u001B[49m\u001B[38;5;241;43m=\u001B[39;49m\u001B[38;5;124;43m'\u001B[39;49m\u001B[38;5;124;43my\u001B[39;49m\u001B[38;5;124;43m'\u001B[39;49m\u001B[43m,\u001B[49m\u001B[43mspot_size\u001B[49m\u001B[38;5;241;43m=\u001B[39;49m\u001B[43m \u001B[49m\u001B[38;5;241;43m60\u001B[39;49m\u001B[43m,\u001B[49m\u001B[43m \u001B[49m\u001B[43mscale_factor\u001B[49m\u001B[38;5;241;43m=\u001B[39;49m\u001B[38;5;241;43m0.1\u001B[39;49m\u001B[43m,\u001B[49m\u001B[43m \u001B[49m\u001B[43mperc\u001B[49m\u001B[38;5;241;43m=\u001B[39;49m\u001B[38;5;241;43m0.001\u001B[39;49m\u001B[43m)\u001B[49m\n",
      "File \u001B[1;32mD:\\CODE_DATA\\Scientific_Research\\Tangram\\tangram\\plot_utils.py:208\u001B[0m, in \u001B[0;36mplot_cell_annotation_sc\u001B[1;34m(adata_sp, annotation_list, x, y, spot_size, scale_factor, perc, alpha_img, bw, ax)\u001B[0m\n\u001B[0;32m    205\u001B[0m \u001B[38;5;28;01mif\u001B[39;00m \u001B[38;5;124m'\u001B[39m\u001B[38;5;124mspatial\u001B[39m\u001B[38;5;124m'\u001B[39m \u001B[38;5;129;01min\u001B[39;00m adata_sp\u001B[38;5;241m.\u001B[39muns\u001B[38;5;241m.\u001B[39mkeys() \u001B[38;5;129;01mand\u001B[39;00m spot_size \u001B[38;5;241m!=\u001B[39m \u001B[38;5;28;01mNone\u001B[39;00m \u001B[38;5;129;01mand\u001B[39;00m scale_factor \u001B[38;5;241m!=\u001B[39m \u001B[38;5;28;01mNone\u001B[39;00m:\n\u001B[0;32m    206\u001B[0m     \u001B[38;5;28;01mraise\u001B[39;00m \u001B[38;5;167;01mValueError\u001B[39;00m(\u001B[38;5;124m\"\u001B[39m\u001B[38;5;124mSpot Size and Scale Factor should be None when ad_sp.uns[\u001B[39m\u001B[38;5;124m'\u001B[39m\u001B[38;5;124mspatial\u001B[39m\u001B[38;5;124m'\u001B[39m\u001B[38;5;124m] exists\u001B[39m\u001B[38;5;124m\"\u001B[39m)\n\u001B[1;32m--> 208\u001B[0m \u001B[43msc\u001B[49m\u001B[38;5;241;43m.\u001B[39;49m\u001B[43mpl\u001B[49m\u001B[38;5;241;43m.\u001B[39;49m\u001B[43mspatial\u001B[49m\u001B[43m(\u001B[49m\n\u001B[0;32m    209\u001B[0m \u001B[43m    \u001B[49m\u001B[43madata_sp\u001B[49m\u001B[43m,\u001B[49m\u001B[43m \u001B[49m\u001B[43mcolor\u001B[49m\u001B[38;5;241;43m=\u001B[39;49m\u001B[43mannotation_list\u001B[49m\u001B[43m,\u001B[49m\u001B[43m \u001B[49m\u001B[43mcmap\u001B[49m\u001B[38;5;241;43m=\u001B[39;49m\u001B[38;5;124;43m\"\u001B[39;49m\u001B[38;5;124;43mviridis\u001B[39;49m\u001B[38;5;124;43m\"\u001B[39;49m\u001B[43m,\u001B[49m\u001B[43m \u001B[49m\u001B[43mshow\u001B[49m\u001B[38;5;241;43m=\u001B[39;49m\u001B[38;5;28;43;01mFalse\u001B[39;49;00m\u001B[43m,\u001B[49m\u001B[43m \u001B[49m\u001B[43mframeon\u001B[49m\u001B[38;5;241;43m=\u001B[39;49m\u001B[38;5;28;43;01mFalse\u001B[39;49;00m\u001B[43m,\u001B[49m\u001B[43m \u001B[49m\u001B[43mspot_size\u001B[49m\u001B[38;5;241;43m=\u001B[39;49m\u001B[43mspot_size\u001B[49m\u001B[43m,\u001B[49m\n\u001B[0;32m    210\u001B[0m \u001B[43m    \u001B[49m\u001B[43mscale_factor\u001B[49m\u001B[38;5;241;43m=\u001B[39;49m\u001B[43mscale_factor\u001B[49m\u001B[43m,\u001B[49m\u001B[43m \u001B[49m\u001B[43malpha_img\u001B[49m\u001B[38;5;241;43m=\u001B[39;49m\u001B[43malpha_img\u001B[49m\u001B[43m,\u001B[49m\u001B[43m \u001B[49m\u001B[43mbw\u001B[49m\u001B[38;5;241;43m=\u001B[39;49m\u001B[43mbw\u001B[49m\u001B[43m,\u001B[49m\u001B[43m \u001B[49m\u001B[43max\u001B[49m\u001B[38;5;241;43m=\u001B[39;49m\u001B[43max\u001B[49m\n\u001B[0;32m    211\u001B[0m \u001B[43m\u001B[49m\u001B[43m)\u001B[49m\n\u001B[0;32m    213\u001B[0m adata_sp\u001B[38;5;241m.\u001B[39mobs\u001B[38;5;241m.\u001B[39mdrop(annotation_list, inplace\u001B[38;5;241m=\u001B[39m\u001B[38;5;28;01mTrue\u001B[39;00m, errors\u001B[38;5;241m=\u001B[39m\u001B[38;5;124m\"\u001B[39m\u001B[38;5;124mignore\u001B[39m\u001B[38;5;124m\"\u001B[39m, axis\u001B[38;5;241m=\u001B[39m\u001B[38;5;241m1\u001B[39m)\n",
      "File \u001B[1;32mD:\\Code_Studio\\My_env\\envs\\Pytorch\\lib\\site-packages\\scanpy\\plotting\\_tools\\scatterplots.py:1002\u001B[0m, in \u001B[0;36mspatial\u001B[1;34m(adata, basis, img, img_key, library_id, crop_coord, alpha_img, bw, size, scale_factor, spot_size, na_color, show, return_fig, save, **kwargs)\u001B[0m\n\u001B[0;32m    999\u001B[0m     cmap_img \u001B[38;5;241m=\u001B[39m \u001B[38;5;28;01mNone\u001B[39;00m\n\u001B[0;32m   1000\u001B[0m circle_radius \u001B[38;5;241m=\u001B[39m size \u001B[38;5;241m*\u001B[39m scale_factor \u001B[38;5;241m*\u001B[39m spot_size \u001B[38;5;241m*\u001B[39m \u001B[38;5;241m0.5\u001B[39m\n\u001B[1;32m-> 1002\u001B[0m axs \u001B[38;5;241m=\u001B[39m \u001B[43membedding\u001B[49m\u001B[43m(\u001B[49m\n\u001B[0;32m   1003\u001B[0m \u001B[43m    \u001B[49m\u001B[43madata\u001B[49m\u001B[43m,\u001B[49m\n\u001B[0;32m   1004\u001B[0m \u001B[43m    \u001B[49m\u001B[43mbasis\u001B[49m\u001B[38;5;241;43m=\u001B[39;49m\u001B[43mbasis\u001B[49m\u001B[43m,\u001B[49m\n\u001B[0;32m   1005\u001B[0m \u001B[43m    \u001B[49m\u001B[43mscale_factor\u001B[49m\u001B[38;5;241;43m=\u001B[39;49m\u001B[43mscale_factor\u001B[49m\u001B[43m,\u001B[49m\n\u001B[0;32m   1006\u001B[0m \u001B[43m    \u001B[49m\u001B[43msize\u001B[49m\u001B[38;5;241;43m=\u001B[39;49m\u001B[43mcircle_radius\u001B[49m\u001B[43m,\u001B[49m\n\u001B[0;32m   1007\u001B[0m \u001B[43m    \u001B[49m\u001B[43mna_color\u001B[49m\u001B[38;5;241;43m=\u001B[39;49m\u001B[43mna_color\u001B[49m\u001B[43m,\u001B[49m\n\u001B[0;32m   1008\u001B[0m \u001B[43m    \u001B[49m\u001B[43mshow\u001B[49m\u001B[38;5;241;43m=\u001B[39;49m\u001B[38;5;28;43;01mFalse\u001B[39;49;00m\u001B[43m,\u001B[49m\n\u001B[0;32m   1009\u001B[0m \u001B[43m    \u001B[49m\u001B[43msave\u001B[49m\u001B[38;5;241;43m=\u001B[39;49m\u001B[38;5;28;43;01mFalse\u001B[39;49;00m\u001B[43m,\u001B[49m\n\u001B[0;32m   1010\u001B[0m \u001B[43m    \u001B[49m\u001B[38;5;241;43m*\u001B[39;49m\u001B[38;5;241;43m*\u001B[39;49m\u001B[43mkwargs\u001B[49m\u001B[43m,\u001B[49m\n\u001B[0;32m   1011\u001B[0m \u001B[43m\u001B[49m\u001B[43m)\u001B[49m\n\u001B[0;32m   1012\u001B[0m \u001B[38;5;28;01mif\u001B[39;00m \u001B[38;5;129;01mnot\u001B[39;00m \u001B[38;5;28misinstance\u001B[39m(axs, \u001B[38;5;28mlist\u001B[39m):\n\u001B[0;32m   1013\u001B[0m     axs \u001B[38;5;241m=\u001B[39m [axs]\n",
      "File \u001B[1;32mD:\\Code_Studio\\My_env\\envs\\Pytorch\\lib\\site-packages\\scanpy\\plotting\\_tools\\scatterplots.py:162\u001B[0m, in \u001B[0;36membedding\u001B[1;34m(adata, basis, color, gene_symbols, use_raw, sort_order, edges, edges_width, edges_color, neighbors_key, arrows, arrows_kwds, groups, components, dimensions, layer, projection, scale_factor, color_map, cmap, palette, na_color, na_in_legend, size, frameon, legend_fontsize, legend_fontweight, legend_loc, legend_fontoutline, colorbar_loc, vmax, vmin, vcenter, norm, add_outline, outline_width, outline_color, ncols, hspace, wspace, title, show, save, ax, return_fig, **kwargs)\u001B[0m\n\u001B[0;32m    160\u001B[0m     \u001B[38;5;28;01melse\u001B[39;00m:\n\u001B[0;32m    161\u001B[0m         cmap \u001B[38;5;241m=\u001B[39m color_map\n\u001B[1;32m--> 162\u001B[0m cmap \u001B[38;5;241m=\u001B[39m copy(\u001B[43mcolormaps\u001B[49m\u001B[38;5;241;43m.\u001B[39;49m\u001B[43mget_cmap\u001B[49m(cmap))\n\u001B[0;32m    163\u001B[0m cmap\u001B[38;5;241m.\u001B[39mset_bad(na_color)\n\u001B[0;32m    164\u001B[0m kwargs[\u001B[38;5;124m\"\u001B[39m\u001B[38;5;124mcmap\u001B[39m\u001B[38;5;124m\"\u001B[39m] \u001B[38;5;241m=\u001B[39m cmap\n",
      "\u001B[1;31mAttributeError\u001B[0m: 'ColormapRegistry' object has no attribute 'get_cmap'"
     ]
    }
   ],
   "source": [
    "import tangram as tg\n",
    "\n",
    "tg.project_cell_annotations(ad_map, ad_sp, annotation='subclass_label')\n",
    "annotation_list = list(pd.unique(ad_sc.obs['subclass_label']))\n",
    "tg.plot_cell_annotation_sc(ad_sp, annotation_list,x='x', y='y',spot_size= 60, scale_factor=0.1, perc=0.001)"
   ]
  },
  {
   "cell_type": "markdown",
   "metadata": {
    "id": "epAS_daxRk3D"
   },
   "source": [
    "- Let's try to get a deeper sense of how good this mapping is. A good helper is `plot_training_scores` which gives us four panels:\n",
    "    - The first panels is a histogram of the simlarity score for each training gene. Most genes are mapped with very high similarity (> .9) although few of them have score ~.5. We would like to understand why for these genes the score is lower.\n",
    "    - The second panel shows that there is a neat correlation between the training score of a gene (y-axis) and the sparsity of that gene in the snRNA-seq data (x-axis). Each dot is a training gene. The trend is that the sparser the gene the higher the score: this usually happens because very sparse gene are easier to map, as their pattern is matched by placing a few \"jackpot cells\" in the right spots.\n",
    "    - The third panel is similar to the second one, but contains the gene sparsity of the spatial data. Spatial data are usually more sparse than single cell data, a discrepancy which is often responsible for low quality mapping.\n",
    "    - In the last panel, we show the training scores as a function of the difference in sparsity between the dataset. For genes with comparable sparsity, the mapped gene expression is very similar to that in the spatial data. However, if a gene is quite sparse in one dataset (typically, the spatial data) but not in other, the mapping score is lower. This occurs as Tangram cannot properly matched the gene pattern because of inconsistent amount of dropouts between the datasets."
   ]
  },
  {
   "cell_type": "code",
   "execution_count": 17,
   "metadata": {
    "id": "Sfel8UqORk3D",
    "outputId": "1d430dfc-4ee2-4f85-ddeb-aac1535db3aa",
    "ExecuteTime": {
     "end_time": "2023-09-25T15:07:50.658745Z",
     "start_time": "2023-09-25T15:07:50.023423200Z"
    }
   },
   "outputs": [
    {
     "data": {
      "text/plain": "<Figure size 1200x300 with 4 Axes>",
      "image/png": "[encoded data removed]"
     },
     "metadata": {},
     "output_type": "display_data"
    }
   ],
   "source": [
    "tg.plot_training_scores(ad_map, bins=10, alpha=.5)"
   ]
  },
  {
   "cell_type": "markdown",
   "metadata": {
    "id": "RFxjJQGRRk3D"
   },
   "source": [
    "- Although the above plots give us a summary of scores at single-gene level, we would need to know _which_ are the genes are mapped with low scores.\n",
    "- These information can be access from the dataframe `.uns['train_genes_df']` from the mapping results; this is the dataframe used to build the four plots above."
   ]
  },
  {
   "cell_type": "markdown",
   "metadata": {
    "id": "TbaqpiKvRk3D"
   },
   "source": [
    "- We want to inspect gene expression of training genes mapped with low scores, to understand the quality of mapping. \n",
    "- First, we need to generate \"new spatial data\" using the mapped single cell: this is done via `project_genes`.\n",
    "- The function accepts as input a mapping (`adata_map`) and corresponding single cell data (`adata_sc`).\n",
    "- The result is a voxel-by-gene `AnnData`, formally similar to `ad_sp`, but containing gene expression from the mapped single cell data rather than Slide-seq."
   ]
  },
  {
   "cell_type": "code",
   "execution_count": 18,
   "metadata": {
    "id": "ST8SXlP_Rk3E",
    "outputId": "1e1c9cc3-bc80-41ae-fcfc-76f817739964",
    "ExecuteTime": {
     "end_time": "2023-09-25T15:08:41.985786400Z",
     "start_time": "2023-09-25T15:07:53.883871300Z"
    }
   },
   "outputs": [
    {
     "data": {
      "text/plain": "AnnData object with n_obs × n_vars = 9852 × 26496\n    obs: 'orig.ident', 'nCount_RNA', 'nFeature_RNA', 'x', 'y', 'uniform_density', 'rna_count_based_density'\n    var: 'n_cells', 'sparsity', 'is_training'\n    uns: 'training_genes', 'overlap_genes'"
     },
     "execution_count": 18,
     "metadata": {},
     "output_type": "execute_result"
    }
   ],
   "source": [
    "ad_ge = tg.project_genes(adata_map=ad_map, adata_sc=ad_sc)\n",
    "ad_ge"
   ]
  },
  {
   "cell_type": "markdown",
   "metadata": {
    "id": "oLOl_gf7Rk3E"
   },
   "source": [
    "- We now choose a few training genes mapped with low score."
   ]
  },
  {
   "cell_type": "code",
   "execution_count": 19,
   "metadata": {
    "id": "PDEqCeFhRk3E",
    "outputId": "e39ae787-8c1b-4b39-84d1-1984e618049c",
    "ExecuteTime": {
     "end_time": "2023-09-25T15:08:42.205676400Z",
     "start_time": "2023-09-25T15:08:41.979034900Z"
    }
   },
   "outputs": [
    {
     "data": {
      "text/plain": "       train_score  sparsity_sc  sparsity_sp  sparsity_diff\nrgs6      0.458365     0.305172     0.941941       0.636769\nsatb2     0.504386     0.455904     0.969549       0.513645\ncdh12     0.423445     0.384889     0.972594       0.587705",
      "text/html": "<div>\n<style scoped>\n    .dataframe tbody tr th:only-of-type {\n        vertical-align: middle;\n    }\n\n    .dataframe tbody tr th {\n        vertical-align: top;\n    }\n\n    .dataframe thead th {\n        text-align: right;\n    }\n</style>\n<table border=\"1\" class=\"dataframe\">\n  <thead>\n    <tr style=\"text-align: right;\">\n      <th></th>\n      <th>train_score</th>\n      <th>sparsity_sc</th>\n      <th>sparsity_sp</th>\n      <th>sparsity_diff</th>\n    </tr>\n  </thead>\n  <tbody>\n    <tr>\n      <th>rgs6</th>\n      <td>0.458365</td>\n      <td>0.305172</td>\n      <td>0.941941</td>\n      <td>0.636769</td>\n    </tr>\n    <tr>\n      <th>satb2</th>\n      <td>0.504386</td>\n      <td>0.455904</td>\n      <td>0.969549</td>\n      <td>0.513645</td>\n    </tr>\n    <tr>\n      <th>cdh12</th>\n      <td>0.423445</td>\n      <td>0.384889</td>\n      <td>0.972594</td>\n      <td>0.587705</td>\n    </tr>\n  </tbody>\n</table>\n</div>"
     },
     "execution_count": 19,
     "metadata": {},
     "output_type": "execute_result"
    }
   ],
   "source": [
    "genes = ['rgs6', 'satb2',  'cdh12']\n",
    "ad_map.uns['train_genes_df'].loc[genes]"
   ]
  },
  {
   "cell_type": "markdown",
   "metadata": {
    "id": "hzyzWTqGRk3E"
   },
   "source": [
    "- To visualize gene patterns, we use the helper `plot_genes`. This function accepts two voxel-by-gene `AnnData`: the actual spatial data  (`adata_measured`), and a Tangram spatial prediction (`adata_predicted`). The function returns gene expression maps from the two spatial `AnnData` on the genes `genes`.\n",
    "- As expected, the predited gene expression is less sparse albeit the main patterns are captured. For these genes, we trust more the mapped gene patterns, as Tangram \"corrects\" gene expression by aligning in space less sparse data."
   ]
  },
  {
   "cell_type": "code",
   "execution_count": 20,
   "metadata": {
    "id": "1U_1A3OuRk3E",
    "outputId": "b1e40ba8-9840-4b36-a17f-1b546face73c",
    "ExecuteTime": {
     "end_time": "2023-09-25T15:08:42.728245800Z",
     "start_time": "2023-09-25T15:08:42.205676400Z"
    }
   },
   "outputs": [
    {
     "ename": "AttributeError",
     "evalue": "'ColormapRegistry' object has no attribute 'get_cmap'",
     "output_type": "error",
     "traceback": [
      "\u001B[1;31m---------------------------------------------------------------------------\u001B[0m",
      "\u001B[1;31mAttributeError\u001B[0m                            Traceback (most recent call last)",
      "Cell \u001B[1;32mIn[20], line 1\u001B[0m\n\u001B[1;32m----> 1\u001B[0m \u001B[43mtg\u001B[49m\u001B[38;5;241;43m.\u001B[39;49m\u001B[43mplot_genes_sc\u001B[49m\u001B[43m(\u001B[49m\u001B[43mgenes\u001B[49m\u001B[43m,\u001B[49m\u001B[43m \u001B[49m\u001B[43madata_measured\u001B[49m\u001B[38;5;241;43m=\u001B[39;49m\u001B[43mad_sp\u001B[49m\u001B[43m,\u001B[49m\u001B[43m \u001B[49m\u001B[43madata_predicted\u001B[49m\u001B[38;5;241;43m=\u001B[39;49m\u001B[43mad_ge\u001B[49m\u001B[43m,\u001B[49m\u001B[43m \u001B[49m\u001B[43mspot_size\u001B[49m\u001B[38;5;241;43m=\u001B[39;49m\u001B[38;5;241;43m50\u001B[39;49m\u001B[43m,\u001B[49m\u001B[43m \u001B[49m\u001B[43mscale_factor\u001B[49m\u001B[38;5;241;43m=\u001B[39;49m\u001B[38;5;241;43m0.1\u001B[39;49m\u001B[43m,\u001B[49m\u001B[43m \u001B[49m\u001B[43mperc\u001B[49m\u001B[43m \u001B[49m\u001B[38;5;241;43m=\u001B[39;49m\u001B[43m \u001B[49m\u001B[38;5;241;43m0.001\u001B[39;49m\u001B[43m,\u001B[49m\u001B[43m \u001B[49m\u001B[43mreturn_figure\u001B[49m\u001B[38;5;241;43m=\u001B[39;49m\u001B[38;5;28;43;01mFalse\u001B[39;49;00m\u001B[43m)\u001B[49m\n",
      "File \u001B[1;32mD:\\CODE_DATA\\Scientific_Research\\Tangram\\tangram\\plot_utils.py:404\u001B[0m, in \u001B[0;36mplot_genes_sc\u001B[1;34m(genes, adata_measured, adata_predicted, x, y, spot_size, scale_factor, cmap, perc, alpha_img, bw, return_figure)\u001B[0m\n\u001B[0;32m    402\u001B[0m \u001B[38;5;28;01mfor\u001B[39;00m ix, gene \u001B[38;5;129;01min\u001B[39;00m \u001B[38;5;28menumerate\u001B[39m(genes):\n\u001B[0;32m    403\u001B[0m     ax_m \u001B[38;5;241m=\u001B[39m fig\u001B[38;5;241m.\u001B[39madd_subplot(gs[ix, \u001B[38;5;241m0\u001B[39m])\n\u001B[1;32m--> 404\u001B[0m     \u001B[43msc\u001B[49m\u001B[38;5;241;43m.\u001B[39;49m\u001B[43mpl\u001B[49m\u001B[38;5;241;43m.\u001B[39;49m\u001B[43mspatial\u001B[49m\u001B[43m(\u001B[49m\n\u001B[0;32m    405\u001B[0m \u001B[43m        \u001B[49m\u001B[43madata_measured\u001B[49m\u001B[43m,\u001B[49m\n\u001B[0;32m    406\u001B[0m \u001B[43m        \u001B[49m\u001B[43mspot_size\u001B[49m\u001B[38;5;241;43m=\u001B[39;49m\u001B[43mspot_size\u001B[49m\u001B[43m,\u001B[49m\n\u001B[0;32m    407\u001B[0m \u001B[43m        \u001B[49m\u001B[43mscale_factor\u001B[49m\u001B[38;5;241;43m=\u001B[39;49m\u001B[43mscale_factor\u001B[49m\u001B[43m,\u001B[49m\n\u001B[0;32m    408\u001B[0m \u001B[43m        \u001B[49m\u001B[43mcolor\u001B[49m\u001B[38;5;241;43m=\u001B[39;49m\u001B[43m[\u001B[49m\u001B[38;5;124;43m\"\u001B[39;49m\u001B[38;5;132;43;01m{}\u001B[39;49;00m\u001B[38;5;124;43m (measured)\u001B[39;49m\u001B[38;5;124;43m\"\u001B[39;49m\u001B[38;5;241;43m.\u001B[39;49m\u001B[43mformat\u001B[49m\u001B[43m(\u001B[49m\u001B[43mgene\u001B[49m\u001B[43m)\u001B[49m\u001B[43m]\u001B[49m\u001B[43m,\u001B[49m\n\u001B[0;32m    409\u001B[0m \u001B[43m        \u001B[49m\u001B[43mframeon\u001B[49m\u001B[38;5;241;43m=\u001B[39;49m\u001B[38;5;28;43;01mFalse\u001B[39;49;00m\u001B[43m,\u001B[49m\n\u001B[0;32m    410\u001B[0m \u001B[43m        \u001B[49m\u001B[43max\u001B[49m\u001B[38;5;241;43m=\u001B[39;49m\u001B[43max_m\u001B[49m\u001B[43m,\u001B[49m\n\u001B[0;32m    411\u001B[0m \u001B[43m        \u001B[49m\u001B[43mshow\u001B[49m\u001B[38;5;241;43m=\u001B[39;49m\u001B[38;5;28;43;01mFalse\u001B[39;49;00m\u001B[43m,\u001B[49m\n\u001B[0;32m    412\u001B[0m \u001B[43m        \u001B[49m\u001B[43mcmap\u001B[49m\u001B[38;5;241;43m=\u001B[39;49m\u001B[43mcmap\u001B[49m\u001B[43m,\u001B[49m\n\u001B[0;32m    413\u001B[0m \u001B[43m        \u001B[49m\u001B[43malpha_img\u001B[49m\u001B[38;5;241;43m=\u001B[39;49m\u001B[43malpha_img\u001B[49m\u001B[43m,\u001B[49m\n\u001B[0;32m    414\u001B[0m \u001B[43m        \u001B[49m\u001B[43mbw\u001B[49m\u001B[38;5;241;43m=\u001B[39;49m\u001B[43mbw\u001B[49m\n\u001B[0;32m    415\u001B[0m \u001B[43m    \u001B[49m\u001B[43m)\u001B[49m\n\u001B[0;32m    416\u001B[0m     ax_p \u001B[38;5;241m=\u001B[39m fig\u001B[38;5;241m.\u001B[39madd_subplot(gs[ix, \u001B[38;5;241m1\u001B[39m])\n\u001B[0;32m    417\u001B[0m     sc\u001B[38;5;241m.\u001B[39mpl\u001B[38;5;241m.\u001B[39mspatial(\n\u001B[0;32m    418\u001B[0m         adata_predicted,\n\u001B[0;32m    419\u001B[0m         spot_size\u001B[38;5;241m=\u001B[39mspot_size,\n\u001B[1;32m   (...)\u001B[0m\n\u001B[0;32m    427\u001B[0m         bw\u001B[38;5;241m=\u001B[39mbw\n\u001B[0;32m    428\u001B[0m     )\n",
      "File \u001B[1;32mD:\\Code_Studio\\My_env\\envs\\Pytorch\\lib\\site-packages\\scanpy\\plotting\\_tools\\scatterplots.py:1002\u001B[0m, in \u001B[0;36mspatial\u001B[1;34m(adata, basis, img, img_key, library_id, crop_coord, alpha_img, bw, size, scale_factor, spot_size, na_color, show, return_fig, save, **kwargs)\u001B[0m\n\u001B[0;32m    999\u001B[0m     cmap_img \u001B[38;5;241m=\u001B[39m \u001B[38;5;28;01mNone\u001B[39;00m\n\u001B[0;32m   1000\u001B[0m circle_radius \u001B[38;5;241m=\u001B[39m size \u001B[38;5;241m*\u001B[39m scale_factor \u001B[38;5;241m*\u001B[39m spot_size \u001B[38;5;241m*\u001B[39m \u001B[38;5;241m0.5\u001B[39m\n\u001B[1;32m-> 1002\u001B[0m axs \u001B[38;5;241m=\u001B[39m \u001B[43membedding\u001B[49m\u001B[43m(\u001B[49m\n\u001B[0;32m   1003\u001B[0m \u001B[43m    \u001B[49m\u001B[43madata\u001B[49m\u001B[43m,\u001B[49m\n\u001B[0;32m   1004\u001B[0m \u001B[43m    \u001B[49m\u001B[43mbasis\u001B[49m\u001B[38;5;241;43m=\u001B[39;49m\u001B[43mbasis\u001B[49m\u001B[43m,\u001B[49m\n\u001B[0;32m   1005\u001B[0m \u001B[43m    \u001B[49m\u001B[43mscale_factor\u001B[49m\u001B[38;5;241;43m=\u001B[39;49m\u001B[43mscale_factor\u001B[49m\u001B[43m,\u001B[49m\n\u001B[0;32m   1006\u001B[0m \u001B[43m    \u001B[49m\u001B[43msize\u001B[49m\u001B[38;5;241;43m=\u001B[39;49m\u001B[43mcircle_radius\u001B[49m\u001B[43m,\u001B[49m\n\u001B[0;32m   1007\u001B[0m \u001B[43m    \u001B[49m\u001B[43mna_color\u001B[49m\u001B[38;5;241;43m=\u001B[39;49m\u001B[43mna_color\u001B[49m\u001B[43m,\u001B[49m\n\u001B[0;32m   1008\u001B[0m \u001B[43m    \u001B[49m\u001B[43mshow\u001B[49m\u001B[38;5;241;43m=\u001B[39;49m\u001B[38;5;28;43;01mFalse\u001B[39;49;00m\u001B[43m,\u001B[49m\n\u001B[0;32m   1009\u001B[0m \u001B[43m    \u001B[49m\u001B[43msave\u001B[49m\u001B[38;5;241;43m=\u001B[39;49m\u001B[38;5;28;43;01mFalse\u001B[39;49;00m\u001B[43m,\u001B[49m\n\u001B[0;32m   1010\u001B[0m \u001B[43m    \u001B[49m\u001B[38;5;241;43m*\u001B[39;49m\u001B[38;5;241;43m*\u001B[39;49m\u001B[43mkwargs\u001B[49m\u001B[43m,\u001B[49m\n\u001B[0;32m   1011\u001B[0m \u001B[43m\u001B[49m\u001B[43m)\u001B[49m\n\u001B[0;32m   1012\u001B[0m \u001B[38;5;28;01mif\u001B[39;00m \u001B[38;5;129;01mnot\u001B[39;00m \u001B[38;5;28misinstance\u001B[39m(axs, \u001B[38;5;28mlist\u001B[39m):\n\u001B[0;32m   1013\u001B[0m     axs \u001B[38;5;241m=\u001B[39m [axs]\n",
      "File \u001B[1;32mD:\\Code_Studio\\My_env\\envs\\Pytorch\\lib\\site-packages\\scanpy\\plotting\\_tools\\scatterplots.py:162\u001B[0m, in \u001B[0;36membedding\u001B[1;34m(adata, basis, color, gene_symbols, use_raw, sort_order, edges, edges_width, edges_color, neighbors_key, arrows, arrows_kwds, groups, components, dimensions, layer, projection, scale_factor, color_map, cmap, palette, na_color, na_in_legend, size, frameon, legend_fontsize, legend_fontweight, legend_loc, legend_fontoutline, colorbar_loc, vmax, vmin, vcenter, norm, add_outline, outline_width, outline_color, ncols, hspace, wspace, title, show, save, ax, return_fig, **kwargs)\u001B[0m\n\u001B[0;32m    160\u001B[0m     \u001B[38;5;28;01melse\u001B[39;00m:\n\u001B[0;32m    161\u001B[0m         cmap \u001B[38;5;241m=\u001B[39m color_map\n\u001B[1;32m--> 162\u001B[0m cmap \u001B[38;5;241m=\u001B[39m copy(\u001B[43mcolormaps\u001B[49m\u001B[38;5;241;43m.\u001B[39;49m\u001B[43mget_cmap\u001B[49m(cmap))\n\u001B[0;32m    163\u001B[0m cmap\u001B[38;5;241m.\u001B[39mset_bad(na_color)\n\u001B[0;32m    164\u001B[0m kwargs[\u001B[38;5;124m\"\u001B[39m\u001B[38;5;124mcmap\u001B[39m\u001B[38;5;124m\"\u001B[39m] \u001B[38;5;241m=\u001B[39m cmap\n",
      "\u001B[1;31mAttributeError\u001B[0m: 'ColormapRegistry' object has no attribute 'get_cmap'"
     ]
    },
    {
     "data": {
      "text/plain": "<Figure size 700x1050 with 1 Axes>",
      "image/png": "[encoded data removed]"
     },
     "metadata": {},
     "output_type": "display_data"
    }
   ],
   "source": [
    "tg.plot_genes_sc(genes, adata_measured=ad_sp, adata_predicted=ad_ge, spot_size=50, scale_factor=0.1, perc = 0.001, return_figure=False)"
   ]
  },
  {
   "cell_type": "markdown",
   "metadata": {
    "id": "a_CZvtvORk3E"
   },
   "source": [
    "- An even stronger example is found in genes that are not detected in the spatial data, but are detected in the single cell data. They are removed before training with `pp_adatas` function. But tangram could still generate insight on how the spatial patterns look like."
   ]
  },
  {
   "cell_type": "code",
   "execution_count": null,
   "metadata": {
    "id": "SOZC4uPgRk3F",
    "outputId": "ef3b1d76-8570-446a-d317-61c9a696bb8f",
    "ExecuteTime": {
     "start_time": "2023-09-25T15:08:42.728245800Z"
    }
   },
   "outputs": [],
   "source": [
    "genes=['mrgprx2', 'muc20', 'chrna2']\n",
    "tg.plot_genes_sc(genes, adata_measured=ad_sp, adata_predicted=ad_ge, spot_size=50, scale_factor=0.1, perc=0.001, return_figure=False)"
   ]
  },
  {
   "cell_type": "markdown",
   "metadata": {
    "id": "Y0xGPNFGRk3F"
   },
   "source": [
    "- So far, we only inspected genes used to align the data (training genes), but the mapped single cell data, `ad_ge` contains the whole transcriptome. That includes more than 26k test genes."
   ]
  },
  {
   "cell_type": "code",
   "execution_count": null,
   "metadata": {
    "id": "6WfNlpC-Rk3F",
    "outputId": "1b5b4a3a-b26f-4dcf-a147-6e7c52443642",
    "ExecuteTime": {
     "end_time": "2023-09-25T15:08:42.728245800Z",
     "start_time": "2023-09-25T15:08:42.728245800Z"
    }
   },
   "outputs": [],
   "source": [
    "(ad_ge.var.is_training == False).sum()"
   ]
  },
  {
   "cell_type": "markdown",
   "metadata": {
    "id": "w6bR6-SURk3F"
   },
   "source": [
    "- We can use `plot_genes` to inspect gene expression of non training genes. This is an essential step as prediction of gene expression is the how we validate mapping.\n",
    "- Before doing that, it is convenient to compute the similarity scores of all genes, which can be done by `compare_spatial_geneexp`. This function accepts two spatial `AnnData`s (_ie_ voxel-by-gene), and returns a dataframe with simlarity scores for all genes. Training genes are flagged by the Boolean field `is_training`.\n",
    "- If we also pass single cell `AnnData` to `compare_spatial_geneexp` function like below, a dataframe with additional sparsity columns - sparsity_sc (single cell data sparsity) and sparsity_diff (spatial data sparsity - single cell data sparsity) will return. This is required if we want to call `plot_test_scores` function later with the returned datafrme from `compare_spatial_geneexp` function."
   ]
  },
  {
   "cell_type": "code",
   "execution_count": null,
   "metadata": {
    "id": "ClZLcLyJRk3F",
    "outputId": "ec2c57fa-4c9c-4dc0-adfd-afa6e691af44",
    "ExecuteTime": {
     "start_time": "2023-09-25T15:08:42.728245800Z"
    }
   },
   "outputs": [],
   "source": [
    "df_all_genes = tg.compare_spatial_geneexp(ad_ge, ad_sp, ad_sc)\n",
    "df_all_genes"
   ]
  },
  {
   "cell_type": "markdown",
   "metadata": {
    "id": "d5TC-GoQRk3F"
   },
   "source": [
    "- The plot below give us a summary of scores at single-gene level for test genes"
   ]
  },
  {
   "cell_type": "code",
   "execution_count": null,
   "metadata": {
    "ExecuteTime": {
     "end_time": "2023-09-25T15:08:42.728245800Z",
     "start_time": "2023-09-25T15:08:42.728245800Z"
    }
   },
   "outputs": [],
   "source": [
    "tg.plot_auc(df_all_genes)"
   ]
  },
  {
   "cell_type": "markdown",
   "metadata": {
    "id": "jYvVCYKLRk3G"
   },
   "source": [
    "- Let's plot the scores of the test genes and see how they compare to the training genes. Following the strategy in the previous plots, we visualize the scores as a function of the sparsity of the spatial data.\n",
    "- (We have not wrapped this call into a function yet)."
   ]
  },
  {
   "cell_type": "markdown",
   "metadata": {
    "id": "-YmigOvtRk3G"
   },
   "source": [
    "- Again, sparser genes in the spatial data are predicted with low scores, which is due to the presence of dropouts in the spatial data.\n",
    "- Let's choose a few test genes with varied scores and compared predictions vs measured gene expression."
   ]
  },
  {
   "cell_type": "code",
   "execution_count": null,
   "metadata": {
    "id": "fQd9kpy2Rk3G",
    "outputId": "ebd95c02-3b20-4b79-b095-8121af228495",
    "ExecuteTime": {
     "start_time": "2023-09-25T15:08:42.728245800Z"
    }
   },
   "outputs": [],
   "source": [
    "genes = ['snap25', 'atp1b1', 'atp1a3', 'ctgf', 'nefh', 'aak1', 'fa2h', ]\n",
    "df_all_genes.loc[genes]"
   ]
  },
  {
   "cell_type": "markdown",
   "metadata": {
    "id": "k0HHphznRk3G"
   },
   "source": [
    "- We can use again `plot_genes` to visualize gene patterns.\n",
    "- Interestingly, the agreement for genes `Atp1b1` or `Apt1a3`, seems less good than that for `Ctgf` and `Nefh`, despite the scores are higher for the former genes. This is because even though the latter gene patterns are localized correctly, their expression values are not so well correlated (for instance, in `Ctgf` the \"bright yellow spot\" is in different part of layer 6b). In contrast, for `Atpb1` the gene expression pattern is largely recover, even though the overall gene expression in the spatial data is more dim."
   ]
  },
  {
   "cell_type": "code",
   "execution_count": null,
   "metadata": {
    "id": "6sMaS6V3Rk3H",
    "outputId": "06a109eb-cb80-4958-f6ac-6fd098aec53d",
    "ExecuteTime": {
     "start_time": "2023-09-25T15:08:42.728245800Z"
    }
   },
   "outputs": [],
   "source": [
    "tg.plot_genes_sc(genes, adata_measured=ad_sp, adata_predicted=ad_ge, spot_size=50, scale_factor=0.1, perc=0.001, return_figure=False)"
   ]
  },
  {
   "cell_type": "markdown",
   "metadata": {
    "id": "KymwAybQJaWm"
   },
   "source": [
    "***\n",
    "#### Leave-One-Out Cross Validation (LOOCV)"
   ]
  },
  {
   "cell_type": "markdown",
   "metadata": {
    "id": "EIghyAEVJaWn"
   },
   "source": [
    "- If number of genes is small, Leave-One-Out cross validation (LOOCV) is supported in Tangram to evaluate mapping performance. \n",
    "- LOOCV supported by Tangram:\n",
    "    - Assume the number of genes we have in the dataset is N. \n",
    "    - LOOCV would iterate over and map on the genes dataset N times.\n",
    "    - Each time it hold out one gene as test gene (1 test gene) and trains on the rest of all genes (N-1 training genes).\n",
    "    - After all trainings are done, average test/train score will be computed to evaluate the mapping performance.\n",
    "- Assume all genes we have is the training genes in the example above. Here we demo the LOOCV mapping at cluster level. \n",
    "- Restart the kernel and load single cell, spatial and gene markers data\n",
    "- Run `pp_adatas` to prepare data for mapping"
   ]
  },
  {
   "cell_type": "code",
   "execution_count": null,
   "metadata": {
    "id": "aUu0ibKfJaWn",
    "ExecuteTime": {
     "start_time": "2023-08-26T06:19:18.566894100Z"
    }
   },
   "outputs": [],
   "source": [
    "import os, sys\n",
    "import numpy as np\n",
    "import pandas as pd\n",
    "import matplotlib.pyplot as plt\n",
    "import scanpy as sc\n",
    "import torch\n",
    "import tangram as tg"
   ]
  },
  {
   "cell_type": "code",
   "execution_count": null,
   "metadata": {
    "id": "L0FWV1ezJaWn",
    "outputId": "73b91b2b-4937-486a-f44b-f53427679082",
    "ExecuteTime": {
     "start_time": "2023-08-26T06:19:18.570147400Z"
    }
   },
   "outputs": [],
   "source": [
    "path = os.path.join('data', 'slideseq_MOp_1217.h5ad')\n",
    "ad_sp = sc.read_h5ad(path)\n",
    "\n",
    "path = os.path.join('data','mop_sn_tutorial.h5ad')\n",
    "ad_sc = sc.read_h5ad(path)\n",
    "sc.pp.normalize_total(ad_sc)\n",
    "\n",
    "df_genes = pd.read_csv('data/MOp_markers.csv', index_col=0)\n",
    "markers = np.reshape(df_genes.values, (-1, ))\n",
    "markers = list(markers)\n",
    "\n",
    "tg.pp_adatas(ad_sc, ad_sp, genes=markers)"
   ]
  },
  {
   "cell_type": "code",
   "execution_count": null,
   "metadata": {
    "id": "LxlA2PCzJaWn",
    "outputId": "3229db45-9d63-4898-b865-b366fb33c011",
    "ExecuteTime": {
     "start_time": "2023-08-26T06:19:18.571146200Z"
    }
   },
   "outputs": [],
   "source": [
    "cv_dict, ad_ge_cv, df = tg.cross_val(ad_sc, \n",
    "                                     ad_sp, \n",
    "                                     device='cuda:0', \n",
    "                                     mode='clusters',\n",
    "                                     cv_mode='loo',\n",
    "                                     num_epochs=1000,\n",
    "                                     cluster_label='subclass_label',\n",
    "                                     return_gene_pred=True,\n",
    "                                     verbose=False,\n",
    "                                     )"
   ]
  },
  {
   "cell_type": "markdown",
   "metadata": {
    "id": "MWC1vkN9JaWn"
   },
   "source": [
    "* `cross_val` function will return `cv_dict` and `ad_ge_cv` and `df_test_genes` in `LOOCV` mode. `cv_dict` contains the average score for cross validation, `ad_ge_cv` stores the predicted expression value for each gene, and `df_test_genes` contains scores and sparsity for each test genes.\n"
   ]
  },
  {
   "cell_type": "code",
   "execution_count": null,
   "metadata": {
    "id": "3XB5TvhsJaWn",
    "outputId": "a7e7e370-0858-4aa2-c721-702855608460",
    "ExecuteTime": {
     "start_time": "2023-08-26T06:19:18.572151600Z"
    }
   },
   "outputs": [],
   "source": [
    "cv_dict"
   ]
  },
  {
   "cell_type": "markdown",
   "metadata": {
    "id": "fDrGA7VoJaWo"
   },
   "source": [
    "* We can use `plot_test_scores` to display an overview of the cross validation test scores of each gene vs. sparsity. "
   ]
  },
  {
   "cell_type": "code",
   "execution_count": null,
   "metadata": {
    "id": "s8LZ_3A3JaWo",
    "outputId": "74e45a1f-379b-406b-ce7c-9fb936b33ccd",
    "ExecuteTime": {
     "start_time": "2023-08-26T06:19:18.574147900Z"
    }
   },
   "outputs": [],
   "source": [
    "tg.plot_test_scores(df, bins=10, alpha=.7)"
   ]
  },
  {
   "cell_type": "markdown",
   "metadata": {
    "id": "2Kx-LeSqJaWo"
   },
   "source": [
    "- Now, let's compare a few genes between their ground truth and cross-validation predicted spatial pattern by calling the function `plot_genes`"
   ]
  },
  {
   "cell_type": "code",
   "execution_count": null,
   "metadata": {
    "id": "QUio9vLsJaWo",
    "outputId": "740b5d17-17f0-4f7c-85cf-dfb7327b6267",
    "ExecuteTime": {
     "start_time": "2023-08-26T06:19:18.575144900Z"
    }
   },
   "outputs": [],
   "source": [
    "ad_ge_cv.var.sort_values(by='test_score', ascending=False)"
   ]
  },
  {
   "cell_type": "code",
   "execution_count": null,
   "metadata": {
    "id": "sI5H4nO9JaWo",
    "ExecuteTime": {
     "start_time": "2023-08-26T06:19:18.576147700Z"
    }
   },
   "outputs": [],
   "source": [
    "ranked_genes = list(ad_ge_cv.var.sort_values(by='test_score', ascending=False).index.values)\n",
    "top_genes = ranked_genes[:3]\n",
    "bottom_genes = ranked_genes[-3:]"
   ]
  },
  {
   "cell_type": "code",
   "execution_count": null,
   "metadata": {
    "id": "piY00gdhJaWo",
    "outputId": "a4a5aa7c-1f1a-46b2-b1d9-eab6b7ff12d9",
    "ExecuteTime": {
     "end_time": "2023-08-26T06:19:18.786449200Z",
     "start_time": "2023-08-26T06:19:18.577655Z"
    }
   },
   "outputs": [],
   "source": [
    "tg.plot_genes_sc(genes=top_genes, adata_measured=ad_sp, adata_predicted=ad_ge_cv, x = 'x', y='y',spot_size=50, scale_factor=0.1, perc=0.001, return_figure=False)"
   ]
  },
  {
   "cell_type": "code",
   "execution_count": null,
   "metadata": {
    "id": "SzqLFYC2JaWo",
    "outputId": "834c4809-a2d5-4529-de3b-6400f1faa0bc",
    "ExecuteTime": {
     "start_time": "2023-08-26T06:19:18.580213300Z"
    }
   },
   "outputs": [],
   "source": [
    "tg.plot_genes_sc(genes=bottom_genes, adata_measured=ad_sp, adata_predicted=ad_ge_cv,x='x', y='y', spot_size=50, scale_factor=0.1, perc=0.001, return_figure=False)"
   ]
  }
 ],
 "metadata": {
  "accelerator": "GPU",
  "colab": {
   "collapsed_sections": [],
   "name": "tangram_tutorial.ipynb",
   "provenance": []
  },
  "interpreter": {
   "hash": "3ac21f8bf730324e87b2ab04b60f02f57ab9f380889952ce3b825e9207797ed6"
  },
  "kernelspec": {
   "name": "conda-env-Pytorch-py",
   "language": "python",
   "display_name": "Python [conda env:Pytorch] *"
  },
  "language_info": {
   "codemirror_mode": {
    "name": "ipython",
    "version": 3
   },
   "file_extension": ".py",
   "mimetype": "text/x-python",
   "name": "python",
   "nbconvert_exporter": "python",
   "pygments_lexer": "ipython3",
   "version": "3.8.12"
  }
 },
 "nbformat": 4,
 "nbformat_minor": 4
}
